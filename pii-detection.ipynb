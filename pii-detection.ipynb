{
 "cells": [
  {
   "cell_type": "markdown",
   "id": "dd77371c",
   "metadata": {
    "papermill": {
     "duration": 0.021488,
     "end_time": "2024-04-14T05:29:33.811630",
     "exception": false,
     "start_time": "2024-04-14T05:29:33.790142",
     "status": "completed"
    },
    "tags": []
   },
   "source": [
    "<a href=\"https://www.kaggle.com/code/awsaf49/pii-data-detection-kerasnlp-starter-notebook?scriptVersionId=163051288\" target=\"_blank\"><img align=\"left\" alt=\"Kaggle\" title=\"Open in Kaggle\" src=\"https://kaggle.com/static/images/open-in-kaggle.svg\"></a>"
   ]
  },
  {
   "cell_type": "markdown",
   "id": "7fcb88cf",
   "metadata": {
    "papermill": {
     "duration": 0.021558,
     "end_time": "2024-04-14T05:29:33.854083",
     "exception": false,
     "start_time": "2024-04-14T05:29:33.832525",
     "status": "completed"
    },
    "tags": []
   },
   "source": [
    "# 📚 | Import Libraries "
   ]
  },
  {
   "cell_type": "code",
   "execution_count": 1,
   "id": "5875b472",
   "metadata": {
    "_cell_guid": "b1076dfc-b9ad-4769-8c92-a6c4dae69d19",
    "_kg_hide-output": true,
    "_uuid": "8f2839f25d086af736a60e9eeb907d3b93b6e0e5",
    "execution": {
     "iopub.execute_input": "2024-04-14T05:29:33.896726Z",
     "iopub.status.busy": "2024-04-14T05:29:33.896454Z",
     "iopub.status.idle": "2024-04-14T05:29:59.139558Z",
     "shell.execute_reply": "2024-04-14T05:29:59.138744Z"
    },
    "papermill": {
     "duration": 25.267354,
     "end_time": "2024-04-14T05:29:59.142088",
     "exception": false,
     "start_time": "2024-04-14T05:29:33.874734",
     "status": "completed"
    },
    "tags": []
   },
   "outputs": [
    {
     "name": "stderr",
     "output_type": "stream",
     "text": [
      "2024-04-14 05:29:43.028651: E external/local_xla/xla/stream_executor/cuda/cuda_dnn.cc:9261] Unable to register cuDNN factory: Attempting to register factory for plugin cuDNN when one has already been registered\n",
      "2024-04-14 05:29:43.028753: E external/local_xla/xla/stream_executor/cuda/cuda_fft.cc:607] Unable to register cuFFT factory: Attempting to register factory for plugin cuFFT when one has already been registered\n",
      "2024-04-14 05:29:43.293409: E external/local_xla/xla/stream_executor/cuda/cuda_blas.cc:1515] Unable to register cuBLAS factory: Attempting to register factory for plugin cuBLAS when one has already been registered\n"
     ]
    }
   ],
   "source": [
    "import os\n",
    "os.environ[\"KERAS_BACKEND\"] = \"jax\" # # you can also use tensorflow or torch\n",
    "\n",
    "import keras\n",
    "import keras_nlp\n",
    "from keras import ops\n",
    "import tensorflow as tf\n",
    "\n",
    "import json\n",
    "import numpy as np\n",
    "import pandas as pd\n",
    "from tqdm.notebook import tqdm\n",
    "from sklearn.model_selection import train_test_split\n",
    "\n",
    "import plotly.graph_objs as go\n",
    "import plotly.express as px"
   ]
  },
  {
   "cell_type": "markdown",
   "id": "2cc6a443",
   "metadata": {
    "papermill": {
     "duration": 0.02082,
     "end_time": "2024-04-14T05:29:59.185135",
     "exception": false,
     "start_time": "2024-04-14T05:29:59.164315",
     "status": "completed"
    },
    "tags": []
   },
   "source": [
    "## Library Versions"
   ]
  },
  {
   "cell_type": "code",
   "execution_count": 2,
   "id": "4d3ab579",
   "metadata": {
    "_kg_hide-input": true,
    "execution": {
     "iopub.execute_input": "2024-04-14T05:29:59.229100Z",
     "iopub.status.busy": "2024-04-14T05:29:59.228402Z",
     "iopub.status.idle": "2024-04-14T05:29:59.233648Z",
     "shell.execute_reply": "2024-04-14T05:29:59.232809Z"
    },
    "papermill": {
     "duration": 0.029632,
     "end_time": "2024-04-14T05:29:59.235878",
     "exception": false,
     "start_time": "2024-04-14T05:29:59.206246",
     "status": "completed"
    },
    "tags": []
   },
   "outputs": [
    {
     "name": "stdout",
     "output_type": "stream",
     "text": [
      "TensorFlow: 2.15.0\n",
      "Keras: 3.1.1\n",
      "KerasNLP: 0.8.2\n"
     ]
    }
   ],
   "source": [
    "print(\"TensorFlow:\", tf.__version__)\n",
    "print(\"Keras:\", keras.__version__)\n",
    "print(\"KerasNLP:\", keras_nlp.__version__)"
   ]
  },
  {
   "cell_type": "markdown",
   "id": "45bf5b79",
   "metadata": {
    "papermill": {
     "duration": 0.020863,
     "end_time": "2024-04-14T05:29:59.277862",
     "exception": false,
     "start_time": "2024-04-14T05:29:59.256999",
     "status": "completed"
    },
    "tags": []
   },
   "source": [
    "# ⚙️ | Configuration"
   ]
  },
  {
   "cell_type": "code",
   "execution_count": 3,
   "id": "0a83997b",
   "metadata": {
    "execution": {
     "iopub.execute_input": "2024-04-14T05:29:59.321043Z",
     "iopub.status.busy": "2024-04-14T05:29:59.320742Z",
     "iopub.status.idle": "2024-04-14T05:29:59.327252Z",
     "shell.execute_reply": "2024-04-14T05:29:59.326353Z"
    },
    "papermill": {
     "duration": 0.030235,
     "end_time": "2024-04-14T05:29:59.329117",
     "exception": false,
     "start_time": "2024-04-14T05:29:59.298882",
     "status": "completed"
    },
    "tags": []
   },
   "outputs": [],
   "source": [
    "class CFG:\n",
    "    seed = 42\n",
    "    preset = \"deberta_v3_small_en\" # name of pretrained backbone\n",
    "    train_seq_len = 1024 # max size of input sequence for training\n",
    "    train_batch_size = 2 * 8 # size of the input batch in training, x 2 as two GPUs\n",
    "    infer_seq_len = 2000 # max size of input sequence for inference\n",
    "    infer_batch_size = 2 * 2 # size of the input batch in inference, x 2 as two GPUs\n",
    "    epochs = 6 # number of epochs to train\n",
    "    lr_mode = \"exp\" # lr scheduler mode from one of \"cos\", \"step\", \"exp\"\n",
    "    \n",
    "    labels = [\"B-EMAIL\", \"B-ID_NUM\", \"B-NAME_STUDENT\", \"B-PHONE_NUM\",\n",
    "              \"B-STREET_ADDRESS\", \"B-URL_PERSONAL\", \"B-USERNAME\",\n",
    "              \"I-ID_NUM\", \"I-NAME_STUDENT\", \"I-PHONE_NUM\",\n",
    "              \"I-STREET_ADDRESS\",\"I-URL_PERSONAL\",\"O\"]\n",
    "    id2label = dict(enumerate(labels)) # integer label to BIO format label mapping\n",
    "    label2id = {v:k for k,v in id2label.items()} # BIO format label to integer label mapping\n",
    "    num_labels = len(labels) # number of PII (NER) tags\n",
    "    \n",
    "    train = True # whether to train or use already trained ckpt"
   ]
  },
  {
   "cell_type": "markdown",
   "id": "1d6841fc",
   "metadata": {
    "papermill": {
     "duration": 0.021539,
     "end_time": "2024-04-14T05:29:59.372749",
     "exception": false,
     "start_time": "2024-04-14T05:29:59.351210",
     "status": "completed"
    },
    "tags": []
   },
   "source": [
    "# ♻️ | Reproducibility \n",
    "Sets value for random seed to produce similar result in each run."
   ]
  },
  {
   "cell_type": "code",
   "execution_count": 4,
   "id": "7052f10e",
   "metadata": {
    "execution": {
     "iopub.execute_input": "2024-04-14T05:29:59.416536Z",
     "iopub.status.busy": "2024-04-14T05:29:59.416279Z",
     "iopub.status.idle": "2024-04-14T05:29:59.420512Z",
     "shell.execute_reply": "2024-04-14T05:29:59.419740Z"
    },
    "papermill": {
     "duration": 0.028237,
     "end_time": "2024-04-14T05:29:59.422393",
     "exception": false,
     "start_time": "2024-04-14T05:29:59.394156",
     "status": "completed"
    },
    "tags": []
   },
   "outputs": [],
   "source": [
    "keras.utils.set_random_seed(CFG.seed)"
   ]
  },
  {
   "cell_type": "markdown",
   "id": "e0f510ab",
   "metadata": {
    "papermill": {
     "duration": 0.020686,
     "end_time": "2024-04-14T05:29:59.465436",
     "exception": false,
     "start_time": "2024-04-14T05:29:59.444750",
     "status": "completed"
    },
    "tags": []
   },
   "source": [
    "# 🚀 | Distributed Training / Inference\n",
    "\n",
    "In this notebook, we will also use the `Data Parallel` strategy for **Distributed Training/Inference**. This means that the model weights will be replicated across all devices, and each device will process a portion of the input data.\n",
    "\n",
    "> **Note**: Currently, `DataParallel` is implemented on the JAX backend, so for TensorFlow and PyTorch backends, we can only use a single GPU."
   ]
  },
  {
   "cell_type": "code",
   "execution_count": 5,
   "id": "487b59bd",
   "metadata": {
    "execution": {
     "iopub.execute_input": "2024-04-14T05:29:59.508692Z",
     "iopub.status.busy": "2024-04-14T05:29:59.508442Z",
     "iopub.status.idle": "2024-04-14T05:30:00.502949Z",
     "shell.execute_reply": "2024-04-14T05:30:00.502040Z"
    },
    "papermill": {
     "duration": 1.018465,
     "end_time": "2024-04-14T05:30:00.504978",
     "exception": false,
     "start_time": "2024-04-14T05:29:59.486513",
     "status": "completed"
    },
    "tags": []
   },
   "outputs": [
    {
     "name": "stdout",
     "output_type": "stream",
     "text": [
      "Device: ['gpu:0', 'gpu:1']\n"
     ]
    }
   ],
   "source": [
    "# Get devices default \"gpu\" or \"tpu\"\n",
    "devices = keras.distribution.list_devices()\n",
    "print(\"Device:\", devices)\n",
    "\n",
    "if len(devices) > 1:\n",
    "    # Data parallelism\n",
    "    data_parallel = keras.distribution.DataParallel(devices=devices)\n",
    "\n",
    "    # Set the global distribution.\n",
    "    keras.distribution.set_distribution(data_parallel)"
   ]
  },
  {
   "cell_type": "markdown",
   "id": "55cb2d03",
   "metadata": {
    "papermill": {
     "duration": 0.020942,
     "end_time": "2024-04-14T05:30:00.547274",
     "exception": false,
     "start_time": "2024-04-14T05:30:00.526332",
     "status": "completed"
    },
    "tags": []
   },
   "source": [
    "# 🧮 | Mixed Precision\n",
    "\n",
    "To enable larger batch sizes and faster training, we'll utilize `mixed_precision` in this notebook. In Keras, this can be achieved with just **one line of code**, as shown below."
   ]
  },
  {
   "cell_type": "code",
   "execution_count": 6,
   "id": "a1f86dd6",
   "metadata": {
    "execution": {
     "iopub.execute_input": "2024-04-14T05:30:00.590207Z",
     "iopub.status.busy": "2024-04-14T05:30:00.589916Z",
     "iopub.status.idle": "2024-04-14T05:30:00.593906Z",
     "shell.execute_reply": "2024-04-14T05:30:00.593125Z"
    },
    "papermill": {
     "duration": 0.027566,
     "end_time": "2024-04-14T05:30:00.595734",
     "exception": false,
     "start_time": "2024-04-14T05:30:00.568168",
     "status": "completed"
    },
    "tags": []
   },
   "outputs": [],
   "source": [
    "keras.mixed_precision.set_global_policy(\"mixed_float16\") "
   ]
  },
  {
   "cell_type": "markdown",
   "id": "1a8bee60",
   "metadata": {
    "papermill": {
     "duration": 0.020814,
     "end_time": "2024-04-14T05:30:00.637807",
     "exception": false,
     "start_time": "2024-04-14T05:30:00.616993",
     "status": "completed"
    },
    "tags": []
   },
   "source": [
    "# 📁 | Dataset Path "
   ]
  },
  {
   "cell_type": "code",
   "execution_count": 7,
   "id": "9d450137",
   "metadata": {
    "execution": {
     "iopub.execute_input": "2024-04-14T05:30:00.681090Z",
     "iopub.status.busy": "2024-04-14T05:30:00.680767Z",
     "iopub.status.idle": "2024-04-14T05:30:00.684692Z",
     "shell.execute_reply": "2024-04-14T05:30:00.683879Z"
    },
    "papermill": {
     "duration": 0.027837,
     "end_time": "2024-04-14T05:30:00.686584",
     "exception": false,
     "start_time": "2024-04-14T05:30:00.658747",
     "status": "completed"
    },
    "tags": []
   },
   "outputs": [],
   "source": [
    "BASE_PATH = \"/kaggle/input/pii-detection-removal-from-educational-data\""
   ]
  },
  {
   "cell_type": "markdown",
   "id": "b184b236",
   "metadata": {
    "papermill": {
     "duration": 0.020988,
     "end_time": "2024-04-14T05:30:00.728413",
     "exception": false,
     "start_time": "2024-04-14T05:30:00.707425",
     "status": "completed"
    },
    "tags": []
   },
   "source": [
    "# 📖 | Meta Data\n",
    "\n",
    "The competition dataset contains ~$22,000$ student essays where $70\\%$ essays are reserved for **testing**, leaving $30\\%$ for **training** and **validation**.\n",
    "\n",
    "Sure, here's the modified markdown with an example of the BIO format label:\n",
    "\n",
    "**Data Overview:**\n",
    "\n",
    "* All essays were written in response to the **same prompt**, applying course material to a real-world problem.\n",
    "* The dataset includes **7 types of PII**: `NAME_STUDENT`, `EMAIL`, `USERNAME`, `ID_NUM`, `PHONE_NUM`, `URL_PERSONAL`, `STREET_ADDRESS`.\n",
    "* Labels are given in **BIO (Beginning, Inner, Outer)** format.\n",
    "\n",
    "**Example of BIO format label:**\n",
    "\n",
    "Let's consider a sentence: `\"The email address of Michael jordan is mjordan@nba.com\"`. In BIO format, the labels for the personally identifiable information (PII) would be annotated as follows:\n",
    "\n",
    "| **Word** | The | email | address | of | Michael | Jordan | is | mjordan@nba.com |\n",
    "|----------|-----|-------|---------|----|---------|--------|----|----------------|\n",
    "| **Label** | O   | O     | O       | O  | B-NAME_STUDENT | I-NAME_STUDENT | O  | B-EMAIL        |\n",
    "\n",
    "In the example above, `B-` indicates the beginning of an PII, `I-` indicates an inner part of a multi-token PII, and `O` indicates tokens that do not belong to any PII.\n",
    "\n",
    "**Data Format:**\n",
    "\n",
    "* The train/test data is stored in `{test|train}.json` files.\n",
    "* Each json file has:\n",
    "    * `document`: unique ID (integer)\n",
    "    * `full_text`: essay content (string)\n",
    "    * `tokens`: individual words in the essay (list of strings)\n",
    "    * `labels` (training data only): BIO labels for each token (list of strings)"
   ]
  },
  {
   "cell_type": "code",
   "execution_count": 8,
   "id": "f3d47b83",
   "metadata": {
    "execution": {
     "iopub.execute_input": "2024-04-14T05:30:00.776281Z",
     "iopub.status.busy": "2024-04-14T05:30:00.775083Z",
     "iopub.status.idle": "2024-04-14T05:30:06.548756Z",
     "shell.execute_reply": "2024-04-14T05:30:06.547879Z"
    },
    "papermill": {
     "duration": 5.801018,
     "end_time": "2024-04-14T05:30:06.550616",
     "exception": false,
     "start_time": "2024-04-14T05:30:00.749598",
     "status": "completed"
    },
    "tags": []
   },
   "outputs": [
    {
     "data": {
      "application/vnd.jupyter.widget-view+json": {
       "model_id": "3874a4b429fc4927a6bef0a83ac71411",
       "version_major": 2,
       "version_minor": 0
      },
      "text/plain": [
       "  0%|          | 0/6807 [00:00<?, ?it/s]"
      ]
     },
     "metadata": {},
     "output_type": "display_data"
    }
   ],
   "source": [
    "# Train-Valid data\n",
    "data = json.load(open(f\"{BASE_PATH}/train.json\"))\n",
    "\n",
    "# Initialize empty arrays\n",
    "words = np.empty(len(data), dtype=object)\n",
    "labels = np.empty(len(data), dtype=object)\n",
    "\n",
    "# Fill the arrays\n",
    "for i, x in tqdm(enumerate(data), total=len(data)):\n",
    "    words[i] = np.array(x[\"tokens\"])\n",
    "    labels[i] = np.array([CFG.label2id[label] for label in x[\"labels\"]])"
   ]
  },
  {
   "cell_type": "markdown",
   "id": "b9ad2530",
   "metadata": {
    "papermill": {
     "duration": 0.021049,
     "end_time": "2024-04-14T05:30:06.593563",
     "exception": false,
     "start_time": "2024-04-14T05:30:06.572514",
     "status": "completed"
    },
    "tags": []
   },
   "source": [
    "# 📊 | Exploratory Data Analysis\n",
    "\n",
    "From the following label distribution plot, it is evident that there is a significant **class imbalance** between PII tags. This could be a key area for improvement where **external datasets** and **augmentations** could play a pivotal role."
   ]
  },
  {
   "cell_type": "code",
   "execution_count": 9,
   "id": "0d1392ef",
   "metadata": {
    "_kg_hide-input": true,
    "execution": {
     "iopub.execute_input": "2024-04-14T05:30:06.637802Z",
     "iopub.status.busy": "2024-04-14T05:30:06.636976Z",
     "iopub.status.idle": "2024-04-14T05:30:08.031860Z",
     "shell.execute_reply": "2024-04-14T05:30:08.030950Z"
    },
    "papermill": {
     "duration": 1.419068,
     "end_time": "2024-04-14T05:30:08.033941",
     "exception": false,
     "start_time": "2024-04-14T05:30:06.614873",
     "status": "completed"
    },
    "tags": []
   },
   "outputs": [
    {
     "data": {
      "text/html": [
       "        <script type=\"text/javascript\">\n",
       "        window.PlotlyConfig = {MathJaxConfig: 'local'};\n",
       "        if (window.MathJax && window.MathJax.Hub && window.MathJax.Hub.Config) {window.MathJax.Hub.Config({SVG: {font: \"STIX-Web\"}});}\n",
       "        if (typeof require !== 'undefined') {\n",
       "        require.undef(\"plotly\");\n",
       "        requirejs.config({\n",
       "            paths: {\n",
       "                'plotly': ['https://cdn.plot.ly/plotly-2.27.0.min']\n",
       "            }\n",
       "        });\n",
       "        require(['plotly'], function(Plotly) {\n",
       "            window._Plotly = Plotly;\n",
       "        });\n",
       "        }\n",
       "        </script>\n",
       "        "
      ]
     },
     "metadata": {},
     "output_type": "display_data"
    },
    {
     "data": {
      "text/html": [
       "<div>                            <div id=\"56267fb3-40ee-4362-83a3-f486074c4ee9\" class=\"plotly-graph-div\" style=\"height:525px; width:100%;\"></div>            <script type=\"text/javascript\">                require([\"plotly\"], function(Plotly) {                    window.PLOTLYENV=window.PLOTLYENV || {};                                    if (document.getElementById(\"56267fb3-40ee-4362-83a3-f486074c4ee9\")) {                    Plotly.newPlot(                        \"56267fb3-40ee-4362-83a3-f486074c4ee9\",                        [{\"x\":[\"B-EMAIL\",\"B-ID_NUM\",\"B-NAME_STUDENT\",\"B-PHONE_NUM\",\"B-STREET_ADDRESS\",\"B-URL_PERSONAL\",\"B-USERNAME\",\"I-ID_NUM\",\"I-NAME_STUDENT\",\"I-PHONE_NUM\",\"I-STREET_ADDRESS\",\"I-URL_PERSONAL\",\"O\"],\"y\":[39,78,1365,6,2,110,6,1,1096,15,20,1,4989794],\"type\":\"bar\",\"text\":[39.0,78.0,1365.0,6.0,2.0,110.0,6.0,1.0,1096.0,15.0,20.0,1.0,4989794.0],\"textposition\":\"outside\"}],                        {\"template\":{\"data\":{\"histogram2dcontour\":[{\"type\":\"histogram2dcontour\",\"colorbar\":{\"outlinewidth\":0,\"ticks\":\"\"},\"colorscale\":[[0.0,\"#0d0887\"],[0.1111111111111111,\"#46039f\"],[0.2222222222222222,\"#7201a8\"],[0.3333333333333333,\"#9c179e\"],[0.4444444444444444,\"#bd3786\"],[0.5555555555555556,\"#d8576b\"],[0.6666666666666666,\"#ed7953\"],[0.7777777777777778,\"#fb9f3a\"],[0.8888888888888888,\"#fdca26\"],[1.0,\"#f0f921\"]]}],\"choropleth\":[{\"type\":\"choropleth\",\"colorbar\":{\"outlinewidth\":0,\"ticks\":\"\"}}],\"histogram2d\":[{\"type\":\"histogram2d\",\"colorbar\":{\"outlinewidth\":0,\"ticks\":\"\"},\"colorscale\":[[0.0,\"#0d0887\"],[0.1111111111111111,\"#46039f\"],[0.2222222222222222,\"#7201a8\"],[0.3333333333333333,\"#9c179e\"],[0.4444444444444444,\"#bd3786\"],[0.5555555555555556,\"#d8576b\"],[0.6666666666666666,\"#ed7953\"],[0.7777777777777778,\"#fb9f3a\"],[0.8888888888888888,\"#fdca26\"],[1.0,\"#f0f921\"]]}],\"heatmap\":[{\"type\":\"heatmap\",\"colorbar\":{\"outlinewidth\":0,\"ticks\":\"\"},\"colorscale\":[[0.0,\"#0d0887\"],[0.1111111111111111,\"#46039f\"],[0.2222222222222222,\"#7201a8\"],[0.3333333333333333,\"#9c179e\"],[0.4444444444444444,\"#bd3786\"],[0.5555555555555556,\"#d8576b\"],[0.6666666666666666,\"#ed7953\"],[0.7777777777777778,\"#fb9f3a\"],[0.8888888888888888,\"#fdca26\"],[1.0,\"#f0f921\"]]}],\"heatmapgl\":[{\"type\":\"heatmapgl\",\"colorbar\":{\"outlinewidth\":0,\"ticks\":\"\"},\"colorscale\":[[0.0,\"#0d0887\"],[0.1111111111111111,\"#46039f\"],[0.2222222222222222,\"#7201a8\"],[0.3333333333333333,\"#9c179e\"],[0.4444444444444444,\"#bd3786\"],[0.5555555555555556,\"#d8576b\"],[0.6666666666666666,\"#ed7953\"],[0.7777777777777778,\"#fb9f3a\"],[0.8888888888888888,\"#fdca26\"],[1.0,\"#f0f921\"]]}],\"contourcarpet\":[{\"type\":\"contourcarpet\",\"colorbar\":{\"outlinewidth\":0,\"ticks\":\"\"}}],\"contour\":[{\"type\":\"contour\",\"colorbar\":{\"outlinewidth\":0,\"ticks\":\"\"},\"colorscale\":[[0.0,\"#0d0887\"],[0.1111111111111111,\"#46039f\"],[0.2222222222222222,\"#7201a8\"],[0.3333333333333333,\"#9c179e\"],[0.4444444444444444,\"#bd3786\"],[0.5555555555555556,\"#d8576b\"],[0.6666666666666666,\"#ed7953\"],[0.7777777777777778,\"#fb9f3a\"],[0.8888888888888888,\"#fdca26\"],[1.0,\"#f0f921\"]]}],\"surface\":[{\"type\":\"surface\",\"colorbar\":{\"outlinewidth\":0,\"ticks\":\"\"},\"colorscale\":[[0.0,\"#0d0887\"],[0.1111111111111111,\"#46039f\"],[0.2222222222222222,\"#7201a8\"],[0.3333333333333333,\"#9c179e\"],[0.4444444444444444,\"#bd3786\"],[0.5555555555555556,\"#d8576b\"],[0.6666666666666666,\"#ed7953\"],[0.7777777777777778,\"#fb9f3a\"],[0.8888888888888888,\"#fdca26\"],[1.0,\"#f0f921\"]]}],\"mesh3d\":[{\"type\":\"mesh3d\",\"colorbar\":{\"outlinewidth\":0,\"ticks\":\"\"}}],\"scatter\":[{\"fillpattern\":{\"fillmode\":\"overlay\",\"size\":10,\"solidity\":0.2},\"type\":\"scatter\"}],\"parcoords\":[{\"type\":\"parcoords\",\"line\":{\"colorbar\":{\"outlinewidth\":0,\"ticks\":\"\"}}}],\"scatterpolargl\":[{\"type\":\"scatterpolargl\",\"marker\":{\"colorbar\":{\"outlinewidth\":0,\"ticks\":\"\"}}}],\"bar\":[{\"error_x\":{\"color\":\"#2a3f5f\"},\"error_y\":{\"color\":\"#2a3f5f\"},\"marker\":{\"line\":{\"color\":\"#E5ECF6\",\"width\":0.5},\"pattern\":{\"fillmode\":\"overlay\",\"size\":10,\"solidity\":0.2}},\"type\":\"bar\"}],\"scattergeo\":[{\"type\":\"scattergeo\",\"marker\":{\"colorbar\":{\"outlinewidth\":0,\"ticks\":\"\"}}}],\"scatterpolar\":[{\"type\":\"scatterpolar\",\"marker\":{\"colorbar\":{\"outlinewidth\":0,\"ticks\":\"\"}}}],\"histogram\":[{\"marker\":{\"pattern\":{\"fillmode\":\"overlay\",\"size\":10,\"solidity\":0.2}},\"type\":\"histogram\"}],\"scattergl\":[{\"type\":\"scattergl\",\"marker\":{\"colorbar\":{\"outlinewidth\":0,\"ticks\":\"\"}}}],\"scatter3d\":[{\"type\":\"scatter3d\",\"line\":{\"colorbar\":{\"outlinewidth\":0,\"ticks\":\"\"}},\"marker\":{\"colorbar\":{\"outlinewidth\":0,\"ticks\":\"\"}}}],\"scattermapbox\":[{\"type\":\"scattermapbox\",\"marker\":{\"colorbar\":{\"outlinewidth\":0,\"ticks\":\"\"}}}],\"scatterternary\":[{\"type\":\"scatterternary\",\"marker\":{\"colorbar\":{\"outlinewidth\":0,\"ticks\":\"\"}}}],\"scattercarpet\":[{\"type\":\"scattercarpet\",\"marker\":{\"colorbar\":{\"outlinewidth\":0,\"ticks\":\"\"}}}],\"carpet\":[{\"aaxis\":{\"endlinecolor\":\"#2a3f5f\",\"gridcolor\":\"white\",\"linecolor\":\"white\",\"minorgridcolor\":\"white\",\"startlinecolor\":\"#2a3f5f\"},\"baxis\":{\"endlinecolor\":\"#2a3f5f\",\"gridcolor\":\"white\",\"linecolor\":\"white\",\"minorgridcolor\":\"white\",\"startlinecolor\":\"#2a3f5f\"},\"type\":\"carpet\"}],\"table\":[{\"cells\":{\"fill\":{\"color\":\"#EBF0F8\"},\"line\":{\"color\":\"white\"}},\"header\":{\"fill\":{\"color\":\"#C8D4E3\"},\"line\":{\"color\":\"white\"}},\"type\":\"table\"}],\"barpolar\":[{\"marker\":{\"line\":{\"color\":\"#E5ECF6\",\"width\":0.5},\"pattern\":{\"fillmode\":\"overlay\",\"size\":10,\"solidity\":0.2}},\"type\":\"barpolar\"}],\"pie\":[{\"automargin\":true,\"type\":\"pie\"}]},\"layout\":{\"autotypenumbers\":\"strict\",\"colorway\":[\"#636efa\",\"#EF553B\",\"#00cc96\",\"#ab63fa\",\"#FFA15A\",\"#19d3f3\",\"#FF6692\",\"#B6E880\",\"#FF97FF\",\"#FECB52\"],\"font\":{\"color\":\"#2a3f5f\"},\"hovermode\":\"closest\",\"hoverlabel\":{\"align\":\"left\"},\"paper_bgcolor\":\"white\",\"plot_bgcolor\":\"#E5ECF6\",\"polar\":{\"bgcolor\":\"#E5ECF6\",\"angularaxis\":{\"gridcolor\":\"white\",\"linecolor\":\"white\",\"ticks\":\"\"},\"radialaxis\":{\"gridcolor\":\"white\",\"linecolor\":\"white\",\"ticks\":\"\"}},\"ternary\":{\"bgcolor\":\"#E5ECF6\",\"aaxis\":{\"gridcolor\":\"white\",\"linecolor\":\"white\",\"ticks\":\"\"},\"baxis\":{\"gridcolor\":\"white\",\"linecolor\":\"white\",\"ticks\":\"\"},\"caxis\":{\"gridcolor\":\"white\",\"linecolor\":\"white\",\"ticks\":\"\"}},\"coloraxis\":{\"colorbar\":{\"outlinewidth\":0,\"ticks\":\"\"}},\"colorscale\":{\"sequential\":[[0.0,\"#0d0887\"],[0.1111111111111111,\"#46039f\"],[0.2222222222222222,\"#7201a8\"],[0.3333333333333333,\"#9c179e\"],[0.4444444444444444,\"#bd3786\"],[0.5555555555555556,\"#d8576b\"],[0.6666666666666666,\"#ed7953\"],[0.7777777777777778,\"#fb9f3a\"],[0.8888888888888888,\"#fdca26\"],[1.0,\"#f0f921\"]],\"sequentialminus\":[[0.0,\"#0d0887\"],[0.1111111111111111,\"#46039f\"],[0.2222222222222222,\"#7201a8\"],[0.3333333333333333,\"#9c179e\"],[0.4444444444444444,\"#bd3786\"],[0.5555555555555556,\"#d8576b\"],[0.6666666666666666,\"#ed7953\"],[0.7777777777777778,\"#fb9f3a\"],[0.8888888888888888,\"#fdca26\"],[1.0,\"#f0f921\"]],\"diverging\":[[0,\"#8e0152\"],[0.1,\"#c51b7d\"],[0.2,\"#de77ae\"],[0.3,\"#f1b6da\"],[0.4,\"#fde0ef\"],[0.5,\"#f7f7f7\"],[0.6,\"#e6f5d0\"],[0.7,\"#b8e186\"],[0.8,\"#7fbc41\"],[0.9,\"#4d9221\"],[1,\"#276419\"]]},\"xaxis\":{\"gridcolor\":\"white\",\"linecolor\":\"white\",\"ticks\":\"\",\"title\":{\"standoff\":15},\"zerolinecolor\":\"white\",\"automargin\":true,\"zerolinewidth\":2},\"yaxis\":{\"gridcolor\":\"white\",\"linecolor\":\"white\",\"ticks\":\"\",\"title\":{\"standoff\":15},\"zerolinecolor\":\"white\",\"automargin\":true,\"zerolinewidth\":2},\"scene\":{\"xaxis\":{\"backgroundcolor\":\"#E5ECF6\",\"gridcolor\":\"white\",\"linecolor\":\"white\",\"showbackground\":true,\"ticks\":\"\",\"zerolinecolor\":\"white\",\"gridwidth\":2},\"yaxis\":{\"backgroundcolor\":\"#E5ECF6\",\"gridcolor\":\"white\",\"linecolor\":\"white\",\"showbackground\":true,\"ticks\":\"\",\"zerolinecolor\":\"white\",\"gridwidth\":2},\"zaxis\":{\"backgroundcolor\":\"#E5ECF6\",\"gridcolor\":\"white\",\"linecolor\":\"white\",\"showbackground\":true,\"ticks\":\"\",\"zerolinecolor\":\"white\",\"gridwidth\":2}},\"shapedefaults\":{\"line\":{\"color\":\"#2a3f5f\"}},\"annotationdefaults\":{\"arrowcolor\":\"#2a3f5f\",\"arrowhead\":0,\"arrowwidth\":1},\"geo\":{\"bgcolor\":\"white\",\"landcolor\":\"#E5ECF6\",\"subunitcolor\":\"white\",\"showland\":true,\"showlakes\":true,\"lakecolor\":\"white\"},\"title\":{\"x\":0.05},\"mapbox\":{\"style\":\"light\"}}},\"yaxis\":{\"title\":{\"text\":\"Count\"},\"type\":\"log\"},\"title\":{\"text\":\"Label Distribution\"},\"xaxis\":{\"title\":{\"text\":\"Labels\"}}},                        {\"responsive\": true}                    ).then(function(){\n",
       "                            \n",
       "var gd = document.getElementById('56267fb3-40ee-4362-83a3-f486074c4ee9');\n",
       "var x = new MutationObserver(function (mutations, observer) {{\n",
       "        var display = window.getComputedStyle(gd).display;\n",
       "        if (!display || display === 'none') {{\n",
       "            console.log([gd, 'removed!']);\n",
       "            Plotly.purge(gd);\n",
       "            observer.disconnect();\n",
       "        }}\n",
       "}});\n",
       "\n",
       "// Listen for the removal of the full notebook cells\n",
       "var notebookContainer = gd.closest('#notebook-container');\n",
       "if (notebookContainer) {{\n",
       "    x.observe(notebookContainer, {childList: true});\n",
       "}}\n",
       "\n",
       "// Listen for the clearing of the current output cell\n",
       "var outputEl = gd.closest('.output');\n",
       "if (outputEl) {{\n",
       "    x.observe(outputEl, {childList: true});\n",
       "}}\n",
       "\n",
       "                        })                };                });            </script>        </div>"
      ]
     },
     "metadata": {},
     "output_type": "display_data"
    }
   ],
   "source": [
    "# Get unique labels and their frequency\n",
    "all_labels = np.array([x for label in labels for x in label])\n",
    "unique_labels, label_counts = np.unique(all_labels, return_counts=True)\n",
    "\n",
    "# Plotting\n",
    "fig = go.Figure(data=go.Bar(x=CFG.labels, y=label_counts))\n",
    "fig.update_layout(\n",
    "    title=\"Label Distribution\",\n",
    "    xaxis_title=\"Labels\",\n",
    "    yaxis_title=\"Count\",\n",
    "    yaxis_type=\"log\",\n",
    ")\n",
    "\n",
    "fig.update_traces(text=label_counts, textposition=\"outside\")\n",
    "fig.show()\n"
   ]
  },
  {
   "cell_type": "markdown",
   "id": "8ca4834c",
   "metadata": {
    "papermill": {
     "duration": 0.060317,
     "end_time": "2024-04-14T05:30:08.116693",
     "exception": false,
     "start_time": "2024-04-14T05:30:08.056376",
     "status": "completed"
    },
    "tags": []
   },
   "source": [
    "## 🔪 | Data Split\n",
    "\n",
    "In the following code snippet, we will split the dataset into training and testing subsets using an `80%-20%` ratio."
   ]
  },
  {
   "cell_type": "code",
   "execution_count": 10,
   "id": "2e1cdcf4",
   "metadata": {
    "execution": {
     "iopub.execute_input": "2024-04-14T05:30:08.161709Z",
     "iopub.status.busy": "2024-04-14T05:30:08.161006Z",
     "iopub.status.idle": "2024-04-14T05:30:08.168937Z",
     "shell.execute_reply": "2024-04-14T05:30:08.168055Z"
    },
    "papermill": {
     "duration": 0.03264,
     "end_time": "2024-04-14T05:30:08.170968",
     "exception": false,
     "start_time": "2024-04-14T05:30:08.138328",
     "status": "completed"
    },
    "tags": []
   },
   "outputs": [],
   "source": [
    "# Splitting the data into training and testing sets\n",
    "train_words, valid_words, train_labels, valid_labels = train_test_split(\n",
    "    words, labels, test_size=0.2, random_state=CFG.seed\n",
    ")"
   ]
  },
  {
   "cell_type": "markdown",
   "id": "67b6e933",
   "metadata": {
    "papermill": {
     "duration": 0.021492,
     "end_time": "2024-04-14T05:30:08.213963",
     "exception": false,
     "start_time": "2024-04-14T05:30:08.192471",
     "status": "completed"
    },
    "tags": []
   },
   "source": [
    "# 🍽️ | Pre-Processing\n",
    "\n",
    "Initially, raw text data is quite complex and challenging for modeling due to its high dimensionality. We simplify this complexity by converting text into words then more manageable set of tokens using `tokenizers`. For example, transforming the sentence `\"The quick brown fox\"` into tokens like `[\"the\", \"qu\", \"##ick\", \"br\", \"##own\", \"fox\"]` helps us break down the text effectively. Then, since models can't directly process strings, they are converted into integers, like `[10, 23, 40, 51, 90, 84]`. Additionally, many models require special tokens and additional tensors to understand input better. A `preprocessing` layer helps with this by adding these special tokens, which aid in separating input and identifying padding, among other tasks.\n",
    "\n",
    "You can explore the following pages to access the available preprocessing and tokenizer layers in **KerasNLP**:\n",
    "- [Tokenizers](https://keras.io/api/keras_nlp/tokenizers/)\n",
    "- [Preprocessing](https://keras.io/api/keras_nlp/preprocessing_layers/)"
   ]
  },
  {
   "cell_type": "code",
   "execution_count": 11,
   "id": "2c737dfd",
   "metadata": {
    "execution": {
     "iopub.execute_input": "2024-04-14T05:30:08.258721Z",
     "iopub.status.busy": "2024-04-14T05:30:08.258414Z",
     "iopub.status.idle": "2024-04-14T05:30:09.816301Z",
     "shell.execute_reply": "2024-04-14T05:30:09.815529Z"
    },
    "papermill": {
     "duration": 1.582863,
     "end_time": "2024-04-14T05:30:09.818545",
     "exception": false,
     "start_time": "2024-04-14T05:30:08.235682",
     "status": "completed"
    },
    "tags": []
   },
   "outputs": [
    {
     "name": "stderr",
     "output_type": "stream",
     "text": [
      "Attaching 'tokenizer.json' from model 'keras/deberta_v3/keras/deberta_v3_small_en/2' to your Kaggle notebook...\n",
      "Attaching 'tokenizer.json' from model 'keras/deberta_v3/keras/deberta_v3_small_en/2' to your Kaggle notebook...\n",
      "Attaching 'assets/tokenizer/vocabulary.spm' from model 'keras/deberta_v3/keras/deberta_v3_small_en/2' to your Kaggle notebook...\n"
     ]
    }
   ],
   "source": [
    "# To convert string input or list of strings input to numerical tokens\n",
    "tokenizer = keras_nlp.models.DebertaV3Tokenizer.from_preset(\n",
    "    CFG.preset,\n",
    ")\n",
    "\n",
    "# Preprocessing layer to add spetical tokens: [CLS], [SEP], [PAD]\n",
    "packer = keras_nlp.layers.MultiSegmentPacker(\n",
    "    start_value=tokenizer.cls_token_id,\n",
    "    end_value=tokenizer.sep_token_id,\n",
    "    sequence_length=10,\n",
    ")"
   ]
  },
  {
   "cell_type": "markdown",
   "id": "0ff60595",
   "metadata": {
    "papermill": {
     "duration": 0.021813,
     "end_time": "2024-04-14T05:30:09.863372",
     "exception": false,
     "start_time": "2024-04-14T05:30:09.841559",
     "status": "completed"
    },
    "tags": []
   },
   "source": [
    "## Tokenizer in Action\n",
    "\n",
    "The following code shows the effects of `DebertaV3Tokenizer`. We can see that the word `[\"reflexion\"]` has been divided into `[\"▁reflex\", \"ion\"]` tokens. Therefore, for similar cases, it's necessary to align labels of tokens to labels of words."
   ]
  },
  {
   "cell_type": "code",
   "execution_count": 12,
   "id": "cf64beb9",
   "metadata": {
    "_kg_hide-input": true,
    "execution": {
     "iopub.execute_input": "2024-04-14T05:30:09.908329Z",
     "iopub.status.busy": "2024-04-14T05:30:09.908038Z",
     "iopub.status.idle": "2024-04-14T05:30:11.593831Z",
     "shell.execute_reply": "2024-04-14T05:30:11.592782Z"
    },
    "papermill": {
     "duration": 1.710783,
     "end_time": "2024-04-14T05:30:11.596023",
     "exception": false,
     "start_time": "2024-04-14T05:30:09.885240",
     "status": "completed"
    },
    "tags": []
   },
   "outputs": [
    {
     "name": "stdout",
     "output_type": "stream",
     "text": [
      "words        : ['Design', 'Thinking', 'for', 'innovation', 'reflexion']\n",
      "tokens (str) : ['▁Design', '▁Thinking', '▁for', '▁innovation', '▁reflex', 'ion']\n",
      "tokens (int) : [2169, 12103, 270, 3513, 28310, 4593]\n"
     ]
    }
   ],
   "source": [
    "sample_words = words[0][:5]\n",
    "sample_tokens_int = [\n",
    "    token.tolist() for word in sample_words for token in tokenizer(word)\n",
    "]\n",
    "sample_tokens_str = [tokenizer.id_to_token(token) for token in sample_tokens_int]\n",
    "\n",
    "print(\"words        :\", sample_words.tolist())\n",
    "print(\"tokens (str) :\", sample_tokens_str)\n",
    "print(\"tokens (int) :\", sample_tokens_int)\n"
   ]
  },
  {
   "cell_type": "markdown",
   "id": "a628b011",
   "metadata": {
    "papermill": {
     "duration": 0.022274,
     "end_time": "2024-04-14T05:30:11.640886",
     "exception": false,
     "start_time": "2024-04-14T05:30:11.618612",
     "status": "completed"
    },
    "tags": []
   },
   "source": [
    "## Preprocessor in Action\n",
    "\n",
    "Even though we converted string inputs to integer tokens with Tokenizer, we are not done yet. We need to add special tokens like `[CLS]`, `[SEP]`, `[PAD]`. This is wehere `Preprocessing` layer comes into the picture. In this notebook, we will use `MultiSegmentPacker` layer. Let's see it action."
   ]
  },
  {
   "cell_type": "code",
   "execution_count": 13,
   "id": "48d7d6df",
   "metadata": {
    "_kg_hide-input": true,
    "execution": {
     "iopub.execute_input": "2024-04-14T05:30:11.685882Z",
     "iopub.status.busy": "2024-04-14T05:30:11.685588Z",
     "iopub.status.idle": "2024-04-14T05:30:11.801708Z",
     "shell.execute_reply": "2024-04-14T05:30:11.800728Z"
    },
    "papermill": {
     "duration": 0.140851,
     "end_time": "2024-04-14T05:30:11.803648",
     "exception": false,
     "start_time": "2024-04-14T05:30:11.662797",
     "status": "completed"
    },
    "tags": []
   },
   "outputs": [
    {
     "name": "stdout",
     "output_type": "stream",
     "text": [
      "tokens (str)        : ['▁Design', '▁Thinking', '▁for', '▁innovation', '▁reflex', 'ion']\n",
      "padded tokens (str) : ['[CLS]', '▁Design', '▁Thinking', '▁for', '▁innovation', '▁reflex', 'ion', '[SEP]', '[PAD]', '[PAD]'] \n",
      "\n",
      "tokens (int)        : [2169, 12103, 270, 3513, 28310, 4593]\n",
      "padded tokens (int) : [1, 2169, 12103, 270, 3513, 28310, 4593, 2, 0, 0]\n"
     ]
    }
   ],
   "source": [
    "padded_sample_tokens_int = packer(np.array(sample_tokens_int))[0].tolist()\n",
    "padded_sample_tokens_str = [\n",
    "    tokenizer.id_to_token(token) for token in padded_sample_tokens_int\n",
    "]\n",
    "\n",
    "print(\"tokens (str)        :\", sample_tokens_str)\n",
    "print(\"padded tokens (str) :\", padded_sample_tokens_str, \"\\n\")\n",
    "\n",
    "print(\"tokens (int)        :\", sample_tokens_int)\n",
    "print(\"padded tokens (int) :\", padded_sample_tokens_int)\n"
   ]
  },
  {
   "cell_type": "markdown",
   "id": "5dce777c",
   "metadata": {
    "papermill": {
     "duration": 0.022408,
     "end_time": "2024-04-14T05:30:11.849164",
     "exception": false,
     "start_time": "2024-04-14T05:30:11.826756",
     "status": "completed"
    },
    "tags": []
   },
   "source": [
    "# 🥣 | Data Processing\n",
    "\n",
    "One of the key factors that sets Token Classification apart from Text Classification is the data processing part. Unlike text classification, where we simply send our tokenized text to the model, in token classification, we have to apply more processing before sending it to the model. For example, when the `tokenizer` creates multiple tokens for single word or the `processing` layer adds special tokens `[CLS]`, `[SEP]`, and `[PAD]`, they create a mismatch between the input and labels. Thus, a single word corresponding to a single label may now be split into two tokens. We need to realign the tokens labels with word labels by:\n",
    "\n",
    "- Mapping tokens label to their corresponding word label using `token_ids`.\n",
    "- Assigning the label `-100` to special tokens `[CLS]`, `[SEP]` and `[PAD]` to disregard them in the `CrossEntropy` loss calculation.\n",
    "- Labeling only the first token of each word and assigning `-100` to other tokens belonging to the same word.\n",
    "\n",
    "Specifically, the following cell contains the following functions:\n",
    "- `process_data()` - prepares input, label, and token_ids\n",
    "    - `get_tokens()` - creates input tokens ans padding masks from string words\n",
    "    - `get_token_ids()` - generates token ids for aligning tokens and labels\n",
    "    - `get_token_labels()` - realigns token labels and adds padding (`-100`) to match input\n",
    "    - `process_token_ids()` - adds padding (`-1`) to token ids to match input"
   ]
  },
  {
   "cell_type": "code",
   "execution_count": 14,
   "id": "32456745",
   "metadata": {
    "execution": {
     "iopub.execute_input": "2024-04-14T05:30:11.896063Z",
     "iopub.status.busy": "2024-04-14T05:30:11.895733Z",
     "iopub.status.idle": "2024-04-14T05:30:11.909917Z",
     "shell.execute_reply": "2024-04-14T05:30:11.909021Z"
    },
    "papermill": {
     "duration": 0.039701,
     "end_time": "2024-04-14T05:30:11.911826",
     "exception": false,
     "start_time": "2024-04-14T05:30:11.872125",
     "status": "completed"
    },
    "tags": []
   },
   "outputs": [],
   "source": [
    "def get_tokens(words, seq_len, packer):\n",
    "    # Tokenize input\n",
    "    token_words = tf.expand_dims(\n",
    "        tokenizer(words), axis=-1\n",
    "    )  # ex: (words) [\"It's\", \"a\", \"cat\"] ->  (token_words) [[1, 2], [3], [4]]\n",
    "    tokens = tf.reshape(\n",
    "        token_words, [-1]\n",
    "    )  # ex: (token_words) [[1, 2], [3], [4]] -> (tokens) [1, 2, 3, 4]\n",
    "    # Pad tokens\n",
    "    tokens = packer(tokens)[0][:seq_len]\n",
    "    inputs = {\"token_ids\": tokens, \"padding_mask\": tokens != 0}\n",
    "    return inputs, tokens, token_words\n",
    "\n",
    "\n",
    "def get_token_ids(token_words):\n",
    "    # Get word indices\n",
    "    word_ids = tf.range(tf.shape(token_words)[0])\n",
    "    # Get size of each word\n",
    "    word_size = tf.reshape(tf.map_fn(lambda word: tf.shape(word)[0:1], token_words), [-1])\n",
    "    # Repeat word_id with size of word to get token_id\n",
    "    token_ids = tf.repeat(word_ids, word_size)\n",
    "    return token_ids\n",
    "\n",
    "\n",
    "def get_token_labels(word_labels, token_ids, seq_len):\n",
    "    # Create token_labels from word_labels ->  alignment\n",
    "    token_labels = tf.gather(word_labels, token_ids)\n",
    "    # Only label the first token of a given word and assign -100 to others\n",
    "    mask = tf.concat([[True], token_ids[1:] != token_ids[:-1]], axis=0)\n",
    "    token_labels = tf.where(mask, token_labels, -100)\n",
    "    # Truncate to max sequence length\n",
    "    token_labels = token_labels[: seq_len - 2]  # -2 for special tokens ([CLS], [SEP])\n",
    "    # Pad token_labels to align with tokens (use -100 to pad for loss/metric ignore)\n",
    "    pad_start = 1  # for [CLS] token\n",
    "    pad_end = seq_len - tf.shape(token_labels)[0] - 1  # for [SEP] and [PAD] tokens\n",
    "    token_labels = tf.pad(token_labels, [[pad_start, pad_end]], constant_values=-100)\n",
    "    return token_labels\n",
    "\n",
    "\n",
    "def process_token_ids(token_ids, seq_len):\n",
    "    # Truncate to max sequence length\n",
    "    token_ids = token_ids[: seq_len - 2]  # -2 for special tokens ([CLS], [SEP])\n",
    "    # Pad token_ids to align with tokens (use -1 to pad for later identification)\n",
    "    pad_start = 1  # [CLS] token\n",
    "    pad_end = seq_len - tf.shape(token_ids)[0] - 1  # [SEP] and [PAD] tokens\n",
    "    token_ids = tf.pad(token_ids, [[pad_start, pad_end]], constant_values=-1)\n",
    "    return token_ids\n",
    "\n",
    "\n",
    "def process_data(seq_len=720, has_label=True, return_ids=False):\n",
    "    # To add spetical tokens: [CLS], [SEP], [PAD]\n",
    "    packer = keras_nlp.layers.MultiSegmentPacker(\n",
    "        start_value=tokenizer.cls_token_id,\n",
    "        end_value=tokenizer.sep_token_id,\n",
    "        sequence_length=seq_len,\n",
    "    )\n",
    "\n",
    "    def process(x):\n",
    "        # Generate inputs from tokens\n",
    "        inputs, tokens, words_int = get_tokens(x[\"words\"], seq_len, packer)\n",
    "        # Generate token_ids for maping tokens to words\n",
    "        token_ids = get_token_ids(words_int)\n",
    "        if has_label:\n",
    "            # Generate token_labels from word_labels\n",
    "            token_labels = get_token_labels(x[\"labels\"], token_ids, seq_len)\n",
    "            return inputs, token_labels\n",
    "        elif return_ids:\n",
    "            # Pad token_ids to align with tokens\n",
    "            token_ids = process_token_ids(token_ids, seq_len)\n",
    "            return token_ids\n",
    "        else:\n",
    "            return inputs\n",
    "\n",
    "    return process"
   ]
  },
  {
   "cell_type": "markdown",
   "id": "18713bda",
   "metadata": {
    "papermill": {
     "duration": 0.022463,
     "end_time": "2024-04-14T05:30:11.956890",
     "exception": false,
     "start_time": "2024-04-14T05:30:11.934427",
     "status": "completed"
    },
    "tags": []
   },
   "source": [
    "# 🍚 | Dataloader\n",
    "\n",
    "The code below sets up a data flow pipeline using `tf.data.Dataset` for data processing. Notable aspects of `tf.data` include its ability to simplify pipeline construction and represent components in sequences. To learn more about `tf.data`, refer to this [documentation](https://www.tensorflow.org/guide/data).\n",
    "\n",
    "> **Note**: We have used `ragged` tensor as each row has text with different sizes."
   ]
  },
  {
   "cell_type": "code",
   "execution_count": 15,
   "id": "eea8d2ce",
   "metadata": {
    "execution": {
     "iopub.execute_input": "2024-04-14T05:30:12.002887Z",
     "iopub.status.busy": "2024-04-14T05:30:12.002616Z",
     "iopub.status.idle": "2024-04-14T05:30:12.010282Z",
     "shell.execute_reply": "2024-04-14T05:30:12.009381Z"
    },
    "papermill": {
     "duration": 0.032937,
     "end_time": "2024-04-14T05:30:12.012371",
     "exception": false,
     "start_time": "2024-04-14T05:30:11.979434",
     "status": "completed"
    },
    "tags": []
   },
   "outputs": [],
   "source": [
    "def build_dataset(words, labels=None, return_ids=False, batch_size=4,\n",
    "                  seq_len=512, shuffle=False, cache=True, drop_remainder=True):\n",
    "    AUTO = tf.data.AUTOTUNE \n",
    "\n",
    "    slices = {\"words\": tf.ragged.constant(words)}\n",
    "    if labels is not None:\n",
    "        slices.update({\"labels\": tf.ragged.constant(labels)})\n",
    "\n",
    "    ds = tf.data.Dataset.from_tensor_slices(slices)\n",
    "    ds = ds.map(process_data(seq_len=seq_len,\n",
    "                             has_label=labels is not None, \n",
    "                             return_ids=return_ids), num_parallel_calls=AUTO) # apply processing\n",
    "    ds = ds.cache() if cache else ds  # cache dataset\n",
    "    if shuffle: # shuffle dataset\n",
    "        ds = ds.shuffle(1024, seed=CFG.seed)  \n",
    "        opt = tf.data.Options() \n",
    "        opt.experimental_deterministic = False\n",
    "        ds = ds.with_options(opt)\n",
    "    ds = ds.batch(batch_size, drop_remainder=drop_remainder)  # batch dataset\n",
    "    ds = ds.prefetch(AUTO)  # prefetch next batch\n",
    "    return ds"
   ]
  },
  {
   "cell_type": "markdown",
   "id": "299f42ad",
   "metadata": {
    "papermill": {
     "duration": 0.022043,
     "end_time": "2024-04-14T05:30:12.056741",
     "exception": false,
     "start_time": "2024-04-14T05:30:12.034698",
     "status": "completed"
    },
    "tags": []
   },
   "source": [
    "## Build Train & Valid Dataloader\n",
    "\n",
    "In the following code, we'll create **train** and **valid** data loaders."
   ]
  },
  {
   "cell_type": "code",
   "execution_count": 16,
   "id": "888bbaaf",
   "metadata": {
    "execution": {
     "iopub.execute_input": "2024-04-14T05:30:12.102647Z",
     "iopub.status.busy": "2024-04-14T05:30:12.102403Z",
     "iopub.status.idle": "2024-04-14T05:30:45.066944Z",
     "shell.execute_reply": "2024-04-14T05:30:45.066121Z"
    },
    "papermill": {
     "duration": 32.990159,
     "end_time": "2024-04-14T05:30:45.069409",
     "exception": false,
     "start_time": "2024-04-14T05:30:12.079250",
     "status": "completed"
    },
    "tags": []
   },
   "outputs": [],
   "source": [
    "train_ds = build_dataset(train_words, train_labels,  batch_size=CFG.train_batch_size,\n",
    "                         seq_len=CFG.train_seq_len, shuffle=True)\n",
    "\n",
    "valid_ds = build_dataset(valid_words, valid_labels, batch_size=CFG.train_batch_size, \n",
    "                         seq_len=CFG.train_seq_len, shuffle=False)"
   ]
  },
  {
   "cell_type": "markdown",
   "id": "97ad028a",
   "metadata": {
    "papermill": {
     "duration": 0.022363,
     "end_time": "2024-04-14T05:30:45.115111",
     "exception": false,
     "start_time": "2024-04-14T05:30:45.092748",
     "status": "completed"
    },
    "tags": []
   },
   "source": [
    "## Dataset Check\n",
    "\n",
    "Let's check a batch of samples and their associated labels from the dataset."
   ]
  },
  {
   "cell_type": "code",
   "execution_count": 17,
   "id": "50cf08f4",
   "metadata": {
    "execution": {
     "iopub.execute_input": "2024-04-14T05:30:45.161210Z",
     "iopub.status.busy": "2024-04-14T05:30:45.160875Z",
     "iopub.status.idle": "2024-04-14T05:30:45.871591Z",
     "shell.execute_reply": "2024-04-14T05:30:45.870359Z"
    },
    "papermill": {
     "duration": 0.737041,
     "end_time": "2024-04-14T05:30:45.874308",
     "exception": false,
     "start_time": "2024-04-14T05:30:45.137267",
     "status": "completed"
    },
    "tags": []
   },
   "outputs": [
    {
     "name": "stdout",
     "output_type": "stream",
     "text": [
      "# Input:\n",
      " {'token_ids': <tf.Tensor: shape=(16, 1024), dtype=int32, numpy=\n",
      "array([[    1, 28525,   877, ...,     0,     0,     0],\n",
      "       [    1, 45730,   377, ...,     0,     0,     0],\n",
      "       [    1,  8489,  7933, ...,     0,     0,     0],\n",
      "       ...,\n",
      "       [    1,  6348, 28525, ...,  1068,  3955,     2],\n",
      "       [    1,  3780, 13942, ...,     0,     0,     0],\n",
      "       [    1, 45730,   377, ...,  6568,   366,     2]], dtype=int32)>, 'padding_mask': <tf.Tensor: shape=(16, 1024), dtype=bool, numpy=\n",
      "array([[ True,  True,  True, ..., False, False, False],\n",
      "       [ True,  True,  True, ..., False, False, False],\n",
      "       [ True,  True,  True, ..., False, False, False],\n",
      "       ...,\n",
      "       [ True,  True,  True, ...,  True,  True,  True],\n",
      "       [ True,  True,  True, ..., False, False, False],\n",
      "       [ True,  True,  True, ...,  True,  True,  True]])>}\n",
      "\n",
      "# Labels:\n",
      " tf.Tensor(\n",
      "[[-100   12   12 ... -100 -100 -100]\n",
      " [-100   12   12 ... -100 -100 -100]\n",
      " [-100   12 -100 ... -100 -100 -100]\n",
      " ...\n",
      " [-100   12   12 ...   12   12 -100]\n",
      " [-100   12 -100 ... -100 -100 -100]\n",
      " [-100   12   12 ...   12   12 -100]], shape=(16, 1024), dtype=int32)\n"
     ]
    }
   ],
   "source": [
    "inp, tar = next(iter(valid_ds))\n",
    "print(\"# Input:\\n\",inp); print(\"\\n# Labels:\\n\",tar)"
   ]
  },
  {
   "cell_type": "markdown",
   "id": "956d0642",
   "metadata": {
    "papermill": {
     "duration": 0.024715,
     "end_time": "2024-04-14T05:30:45.924398",
     "exception": false,
     "start_time": "2024-04-14T05:30:45.899683",
     "status": "completed"
    },
    "tags": []
   },
   "source": [
    "# 🔍 | Loss & Metric"
   ]
  },
  {
   "cell_type": "markdown",
   "id": "6f5aeddf",
   "metadata": {
    "papermill": {
     "duration": 0.024645,
     "end_time": "2024-04-14T05:30:45.974076",
     "exception": false,
     "start_time": "2024-04-14T05:30:45.949431",
     "status": "completed"
    },
    "tags": []
   },
   "source": [
    "## Loss: CrossEntropy\n",
    "\n",
    "To optimize our model we will use `CrossEntropy` loss, also known as log loss. It is defined as:\n",
    "\n",
    "$$\n",
    "\\text{CrossEntropy} = - \\frac{1}{N} \\sum_{i=1}^{N} \\left[ y_i \\log(\\hat{y}_i) + (1 - y_i) \\log(1 - \\hat{y}_i) \\right]\n",
    "$$\n",
    "\n",
    "Where:\n",
    "- $N$ is the number of samples.\n",
    "- $y_i$ is the true label of the $i^{th}$ sample.\n",
    "- $\\hat{y}_i$ is the predicted probability of the $i^{th}$ sample being in the positive class.\n",
    "\n",
    "> **Note**: We will not compute loss for `ignore_class` which indicates special tokens (`[CLS]`, `[SEP]`, `[PAD]`) or intermediate token of a word."
   ]
  },
  {
   "cell_type": "code",
   "execution_count": 18,
   "id": "4f620e6e",
   "metadata": {
    "execution": {
     "iopub.execute_input": "2024-04-14T05:30:46.025716Z",
     "iopub.status.busy": "2024-04-14T05:30:46.024867Z",
     "iopub.status.idle": "2024-04-14T05:30:46.033592Z",
     "shell.execute_reply": "2024-04-14T05:30:46.032667Z"
    },
    "papermill": {
     "duration": 0.036313,
     "end_time": "2024-04-14T05:30:46.035582",
     "exception": false,
     "start_time": "2024-04-14T05:30:45.999269",
     "status": "completed"
    },
    "tags": []
   },
   "outputs": [],
   "source": [
    "class CrossEntropy(keras.losses.SparseCategoricalCrossentropy):\n",
    "    def __init__(self, ignore_class=-100, reduction=None, **args):\n",
    "        super().__init__(reduction=reduction, **args)\n",
    "        self.ignore_class = ignore_class\n",
    "\n",
    "    def call(self, y_true, y_pred):\n",
    "        y_true = ops.reshape(y_true, [-1])\n",
    "        y_pred = ops.reshape(y_pred, [-1, CFG.num_labels])\n",
    "        loss = super().call(y_true, y_pred)\n",
    "        if self.ignore_class is not None:\n",
    "            valid_mask = ops.not_equal(\n",
    "                y_true, ops.cast(self.ignore_class, y_pred.dtype)\n",
    "            )\n",
    "            loss = ops.where(valid_mask, loss, 0.0)\n",
    "            loss = ops.sum(loss)\n",
    "            loss /= ops.maximum(ops.sum(ops.cast(valid_mask, loss.dtype)), 1)\n",
    "        else:\n",
    "            loss = ops.mean(loss)\n",
    "        return loss\n"
   ]
  },
  {
   "cell_type": "markdown",
   "id": "4ed87f68",
   "metadata": {
    "papermill": {
     "duration": 0.024058,
     "end_time": "2024-04-14T05:30:46.084160",
     "exception": false,
     "start_time": "2024-04-14T05:30:46.060102",
     "status": "completed"
    },
    "tags": []
   },
   "source": [
    "## Metric: FBetaScore ($\\beta = 5$)\n",
    "\n",
    "The competition metric is $F^\\beta$, which combines precision and recall, weighted by a parameter $\\beta = 5$. It is defined as:\n",
    "\n",
    "$$\n",
    "\\text{FBetaScore} = (1 + \\beta^2) \\times \\frac{\\text{Precision} \\times \\text{Recall}}{\\beta^2 \\times \\text{Precision} + \\text{Recall}}\n",
    "$$\n",
    "\n",
    "Where:\n",
    "- Precision $= \\frac{\\text{True Positives}}{\\text{True Positives} + \\text{False Positives}}$\n",
    "- Recall $= \\frac{\\text{True Positives}}{\\text{True Positives} + \\text{False Negatives}}$\n",
    "- $\\beta$ controls the weighting between precision and recall. As in this competition, $\\beta = 5$, it means more weight is given to recall. In other words, **metric will penalize more, if a positive token is classified as negative**.\n",
    "\n",
    "> **Note${}^1$**: The competition will use `micro` averaging for the `FBetaScore`, considering total counts across all classes, which is influenced by class imbalances. The `macro` averaging treats each class equally, regardless of frequency. Organizers may want models that perform well on predicting more common PII tags.\n",
    "\n",
    "> **Note${}^2$**: We will not compute the metric for `ignore_classes`, which indicates special tokens (`[CLS]`, `[SEP]`, `[PAD]`) or non-start tokens of a word or `O` (Outer) labels."
   ]
  },
  {
   "cell_type": "code",
   "execution_count": 19,
   "id": "bcce6ecb",
   "metadata": {
    "execution": {
     "iopub.execute_input": "2024-04-14T05:30:46.134183Z",
     "iopub.status.busy": "2024-04-14T05:30:46.133857Z",
     "iopub.status.idle": "2024-04-14T05:30:46.146541Z",
     "shell.execute_reply": "2024-04-14T05:30:46.145622Z"
    },
    "papermill": {
     "duration": 0.040177,
     "end_time": "2024-04-14T05:30:46.148539",
     "exception": false,
     "start_time": "2024-04-14T05:30:46.108362",
     "status": "completed"
    },
    "tags": []
   },
   "outputs": [],
   "source": [
    "class FBetaScore(keras.metrics.FBetaScore):\n",
    "    def __init__(self, ignore_classes=[-100, 12], average=\"micro\", beta=5.0,\n",
    "                 name=\"f5_score\", **args):\n",
    "        super().__init__(beta=beta, average=average, name=name, **args)\n",
    "        self.ignore_classes = ignore_classes or []\n",
    "\n",
    "    def update_state(self, y_true, y_pred, sample_weight=None):\n",
    "        y_true = ops.convert_to_tensor(y_true, dtype=self.dtype)\n",
    "        y_pred = ops.convert_to_tensor(y_pred, dtype=self.dtype)\n",
    "        \n",
    "        y_true = ops.reshape(y_true, [-1])\n",
    "        y_pred = ops.reshape(y_pred, [-1, CFG.num_labels])\n",
    "            \n",
    "        valid_mask = ops.ones_like(y_true, dtype=self.dtype)\n",
    "        if self.ignore_classes:\n",
    "            for ignore_class in self.ignore_classes:\n",
    "                valid_mask &= ops.not_equal(y_true, ops.cast(ignore_class, y_pred.dtype))\n",
    "        valid_mask = ops.expand_dims(valid_mask, axis=-1)\n",
    "        \n",
    "        y_true = ops.one_hot(y_true, CFG.num_labels)\n",
    "        \n",
    "        if not self._built:\n",
    "            self._build(y_true.shape, y_pred.shape)\n",
    "\n",
    "        threshold = ops.max(y_pred, axis=-1, keepdims=True)\n",
    "        y_pred = ops.logical_and(\n",
    "            y_pred >= threshold, ops.abs(y_pred) > 1e-9\n",
    "        )\n",
    "\n",
    "        y_pred = ops.cast(y_pred, dtype=self.dtype)\n",
    "        y_true = ops.cast(y_true, dtype=self.dtype)\n",
    "        \n",
    "        tp = ops.sum(y_pred * y_true * valid_mask, self.axis)\n",
    "        fp = ops.sum(y_pred * (1 - y_true) * valid_mask, self.axis)\n",
    "        fn = ops.sum((1 - y_pred) * y_true * valid_mask, self.axis)\n",
    "            \n",
    "        self.true_positives.assign_add(tp)\n",
    "        self.false_positives.assign_add(fp)\n",
    "        self.false_negatives.assign_add(fn)"
   ]
  },
  {
   "cell_type": "markdown",
   "id": "f88ace46",
   "metadata": {
    "papermill": {
     "duration": 0.023027,
     "end_time": "2024-04-14T05:30:46.194755",
     "exception": false,
     "start_time": "2024-04-14T05:30:46.171728",
     "status": "completed"
    },
    "tags": []
   },
   "source": [
    "# 🤖 | Modeling\n",
    "\n",
    "In this notebook, we will use the `DebertaV3` backbone from KerasNLP's pretrained models to extract features of tokens and employ `Dense` layers for token-level classification. Unlike Text Classification, transformer outputs are not pooled; instead, a `Dense` layer is applied to the outputs to obtain predictions.\n",
    "\n",
    "To clarify, the output of the transformer model is a 3D tensor of shape $(batch\\_size, seq\\_len, feat\\_dim)$, where only the $feat\\_dim$ is changed, while the others remain the same. Subsequently, the `Dense` (or `Linear`) layer maps the `feat_dim` to `num_labels` and then applies a `softmax` activation to get the final prediction.\n",
    "\n",
    "To explore other backbones, simply modify the `preset` in the `CFG` (config). A list of available pretrained backbones can be found on the [KerasNLP website](https://keras.io/api/keras_nlp/models/).\n",
    "\n",
    "> **Note:** The output `dtype` of the final activation is manually set to `float32` to facilitate `mixed_precision`.\n",
    "\n",
    "<u>Food for thought</u>: \n",
    "1. Some may wonder why the input to the `Dense` layer is 3D `(batch_size, d0, d1)` instead of the traditional 2D `(batch_size, d0)`. You can check [Hint: you can check this page](https://keras.io/api/layers/core_layers/dense/).\n",
    "2. We are training our model with sequence of `1024` length, however we are doing inference with sequence of `2000` length. What is happening here?"
   ]
  },
  {
   "cell_type": "code",
   "execution_count": 20,
   "id": "d2270558",
   "metadata": {
    "execution": {
     "iopub.execute_input": "2024-04-14T05:30:46.241951Z",
     "iopub.status.busy": "2024-04-14T05:30:46.241582Z",
     "iopub.status.idle": "2024-04-14T05:30:58.260595Z",
     "shell.execute_reply": "2024-04-14T05:30:58.259657Z"
    },
    "papermill": {
     "duration": 12.04492,
     "end_time": "2024-04-14T05:30:58.262503",
     "exception": false,
     "start_time": "2024-04-14T05:30:46.217583",
     "status": "completed"
    },
    "tags": []
   },
   "outputs": [
    {
     "name": "stderr",
     "output_type": "stream",
     "text": [
      "Attaching 'config.json' from model 'keras/deberta_v3/keras/deberta_v3_small_en/2' to your Kaggle notebook...\n",
      "Attaching 'config.json' from model 'keras/deberta_v3/keras/deberta_v3_small_en/2' to your Kaggle notebook...\n",
      "Attaching 'model.weights.h5' from model 'keras/deberta_v3/keras/deberta_v3_small_en/2' to your Kaggle notebook...\n"
     ]
    },
    {
     "data": {
      "text/html": [
       "<pre style=\"white-space:pre;overflow-x:auto;line-height:normal;font-family:Menlo,'DejaVu Sans Mono',consolas,'Courier New',monospace\"><span style=\"font-weight: bold\">Model: \"functional_1\"</span>\n",
       "</pre>\n"
      ],
      "text/plain": [
       "\u001b[1mModel: \"functional_1\"\u001b[0m\n"
      ]
     },
     "metadata": {},
     "output_type": "display_data"
    },
    {
     "data": {
      "text/html": [
       "<pre style=\"white-space:pre;overflow-x:auto;line-height:normal;font-family:Menlo,'DejaVu Sans Mono',consolas,'Courier New',monospace\">┏━━━━━━━━━━━━━━━━━━━━━┳━━━━━━━━━━━━━━━━━━━┳━━━━━━━━━━━━┳━━━━━━━━━━━━━━━━━━━┓\n",
       "┃<span style=\"font-weight: bold\"> Layer (type)        </span>┃<span style=\"font-weight: bold\"> Output Shape      </span>┃<span style=\"font-weight: bold\">    Param # </span>┃<span style=\"font-weight: bold\"> Connected to      </span>┃\n",
       "┡━━━━━━━━━━━━━━━━━━━━━╇━━━━━━━━━━━━━━━━━━━╇━━━━━━━━━━━━╇━━━━━━━━━━━━━━━━━━━┩\n",
       "│ token_ids           │ (<span style=\"color: #00d7ff; text-decoration-color: #00d7ff\">None</span>, <span style=\"color: #00d7ff; text-decoration-color: #00d7ff\">None</span>)      │          <span style=\"color: #00af00; text-decoration-color: #00af00\">0</span> │ -                 │\n",
       "│ (<span style=\"color: #0087ff; text-decoration-color: #0087ff\">InputLayer</span>)        │                   │            │                   │\n",
       "├─────────────────────┼───────────────────┼────────────┼───────────────────┤\n",
       "│ token_embedding     │ (<span style=\"color: #00d7ff; text-decoration-color: #00d7ff\">None</span>, <span style=\"color: #00d7ff; text-decoration-color: #00d7ff\">None</span>, <span style=\"color: #00af00; text-decoration-color: #00af00\">768</span>) │ <span style=\"color: #00af00; text-decoration-color: #00af00\">98,380,800</span> │ token_ids[<span style=\"color: #00af00; text-decoration-color: #00af00\">0</span>][<span style=\"color: #00af00; text-decoration-color: #00af00\">0</span>]   │\n",
       "│ (<span style=\"color: #0087ff; text-decoration-color: #0087ff\">ReversibleEmbeddi…</span> │                   │            │                   │\n",
       "├─────────────────────┼───────────────────┼────────────┼───────────────────┤\n",
       "│ embeddings_layer_n… │ (<span style=\"color: #00d7ff; text-decoration-color: #00d7ff\">None</span>, <span style=\"color: #00d7ff; text-decoration-color: #00d7ff\">None</span>, <span style=\"color: #00af00; text-decoration-color: #00af00\">768</span>) │      <span style=\"color: #00af00; text-decoration-color: #00af00\">1,536</span> │ token_embedding[<span style=\"color: #00af00; text-decoration-color: #00af00\">…</span> │\n",
       "│ (<span style=\"color: #0087ff; text-decoration-color: #0087ff\">LayerNormalizatio…</span> │                   │            │                   │\n",
       "├─────────────────────┼───────────────────┼────────────┼───────────────────┤\n",
       "│ embeddings_dropout  │ (<span style=\"color: #00d7ff; text-decoration-color: #00d7ff\">None</span>, <span style=\"color: #00d7ff; text-decoration-color: #00d7ff\">None</span>, <span style=\"color: #00af00; text-decoration-color: #00af00\">768</span>) │          <span style=\"color: #00af00; text-decoration-color: #00af00\">0</span> │ embeddings_layer… │\n",
       "│ (<span style=\"color: #0087ff; text-decoration-color: #0087ff\">Dropout</span>)           │                   │            │                   │\n",
       "├─────────────────────┼───────────────────┼────────────┼───────────────────┤\n",
       "│ padding_mask        │ (<span style=\"color: #00d7ff; text-decoration-color: #00d7ff\">None</span>, <span style=\"color: #00d7ff; text-decoration-color: #00d7ff\">None</span>)      │          <span style=\"color: #00af00; text-decoration-color: #00af00\">0</span> │ -                 │\n",
       "│ (<span style=\"color: #0087ff; text-decoration-color: #0087ff\">InputLayer</span>)        │                   │            │                   │\n",
       "├─────────────────────┼───────────────────┼────────────┼───────────────────┤\n",
       "│ rel_embedding       │ (<span style=\"color: #00d7ff; text-decoration-color: #00d7ff\">None</span>, <span style=\"color: #00af00; text-decoration-color: #00af00\">512</span>, <span style=\"color: #00af00; text-decoration-color: #00af00\">768</span>)  │    <span style=\"color: #00af00; text-decoration-color: #00af00\">394,752</span> │ embeddings_dropo… │\n",
       "│ (<span style=\"color: #0087ff; text-decoration-color: #0087ff\">RelativeEmbedding</span>) │                   │            │                   │\n",
       "├─────────────────────┼───────────────────┼────────────┼───────────────────┤\n",
       "│ disentangled_atten… │ (<span style=\"color: #00d7ff; text-decoration-color: #00d7ff\">None</span>, <span style=\"color: #00d7ff; text-decoration-color: #00d7ff\">None</span>, <span style=\"color: #00af00; text-decoration-color: #00af00\">768</span>) │  <span style=\"color: #00af00; text-decoration-color: #00af00\">7,087,872</span> │ embeddings_dropo… │\n",
       "│ (<span style=\"color: #0087ff; text-decoration-color: #0087ff\">DisentangledAtten…</span> │                   │            │ padding_mask[<span style=\"color: #00af00; text-decoration-color: #00af00\">0</span>][<span style=\"color: #00af00; text-decoration-color: #00af00\">…</span> │\n",
       "│                     │                   │            │ rel_embedding[<span style=\"color: #00af00; text-decoration-color: #00af00\">0</span>]… │\n",
       "├─────────────────────┼───────────────────┼────────────┼───────────────────┤\n",
       "│ disentangled_atten… │ (<span style=\"color: #00d7ff; text-decoration-color: #00d7ff\">None</span>, <span style=\"color: #00d7ff; text-decoration-color: #00d7ff\">None</span>, <span style=\"color: #00af00; text-decoration-color: #00af00\">768</span>) │  <span style=\"color: #00af00; text-decoration-color: #00af00\">7,087,872</span> │ disentangled_att… │\n",
       "│ (<span style=\"color: #0087ff; text-decoration-color: #0087ff\">DisentangledAtten…</span> │                   │            │ padding_mask[<span style=\"color: #00af00; text-decoration-color: #00af00\">0</span>][<span style=\"color: #00af00; text-decoration-color: #00af00\">…</span> │\n",
       "│                     │                   │            │ rel_embedding[<span style=\"color: #00af00; text-decoration-color: #00af00\">0</span>]… │\n",
       "├─────────────────────┼───────────────────┼────────────┼───────────────────┤\n",
       "│ disentangled_atten… │ (<span style=\"color: #00d7ff; text-decoration-color: #00d7ff\">None</span>, <span style=\"color: #00d7ff; text-decoration-color: #00d7ff\">None</span>, <span style=\"color: #00af00; text-decoration-color: #00af00\">768</span>) │  <span style=\"color: #00af00; text-decoration-color: #00af00\">7,087,872</span> │ disentangled_att… │\n",
       "│ (<span style=\"color: #0087ff; text-decoration-color: #0087ff\">DisentangledAtten…</span> │                   │            │ padding_mask[<span style=\"color: #00af00; text-decoration-color: #00af00\">0</span>][<span style=\"color: #00af00; text-decoration-color: #00af00\">…</span> │\n",
       "│                     │                   │            │ rel_embedding[<span style=\"color: #00af00; text-decoration-color: #00af00\">0</span>]… │\n",
       "├─────────────────────┼───────────────────┼────────────┼───────────────────┤\n",
       "│ disentangled_atten… │ (<span style=\"color: #00d7ff; text-decoration-color: #00d7ff\">None</span>, <span style=\"color: #00d7ff; text-decoration-color: #00d7ff\">None</span>, <span style=\"color: #00af00; text-decoration-color: #00af00\">768</span>) │  <span style=\"color: #00af00; text-decoration-color: #00af00\">7,087,872</span> │ disentangled_att… │\n",
       "│ (<span style=\"color: #0087ff; text-decoration-color: #0087ff\">DisentangledAtten…</span> │                   │            │ padding_mask[<span style=\"color: #00af00; text-decoration-color: #00af00\">0</span>][<span style=\"color: #00af00; text-decoration-color: #00af00\">…</span> │\n",
       "│                     │                   │            │ rel_embedding[<span style=\"color: #00af00; text-decoration-color: #00af00\">0</span>]… │\n",
       "├─────────────────────┼───────────────────┼────────────┼───────────────────┤\n",
       "│ disentangled_atten… │ (<span style=\"color: #00d7ff; text-decoration-color: #00d7ff\">None</span>, <span style=\"color: #00d7ff; text-decoration-color: #00d7ff\">None</span>, <span style=\"color: #00af00; text-decoration-color: #00af00\">768</span>) │  <span style=\"color: #00af00; text-decoration-color: #00af00\">7,087,872</span> │ disentangled_att… │\n",
       "│ (<span style=\"color: #0087ff; text-decoration-color: #0087ff\">DisentangledAtten…</span> │                   │            │ padding_mask[<span style=\"color: #00af00; text-decoration-color: #00af00\">0</span>][<span style=\"color: #00af00; text-decoration-color: #00af00\">…</span> │\n",
       "│                     │                   │            │ rel_embedding[<span style=\"color: #00af00; text-decoration-color: #00af00\">0</span>]… │\n",
       "├─────────────────────┼───────────────────┼────────────┼───────────────────┤\n",
       "│ disentangled_atten… │ (<span style=\"color: #00d7ff; text-decoration-color: #00d7ff\">None</span>, <span style=\"color: #00d7ff; text-decoration-color: #00d7ff\">None</span>, <span style=\"color: #00af00; text-decoration-color: #00af00\">768</span>) │  <span style=\"color: #00af00; text-decoration-color: #00af00\">7,087,872</span> │ disentangled_att… │\n",
       "│ (<span style=\"color: #0087ff; text-decoration-color: #0087ff\">DisentangledAtten…</span> │                   │            │ padding_mask[<span style=\"color: #00af00; text-decoration-color: #00af00\">0</span>][<span style=\"color: #00af00; text-decoration-color: #00af00\">…</span> │\n",
       "│                     │                   │            │ rel_embedding[<span style=\"color: #00af00; text-decoration-color: #00af00\">0</span>]… │\n",
       "├─────────────────────┼───────────────────┼────────────┼───────────────────┤\n",
       "│ logits (<span style=\"color: #0087ff; text-decoration-color: #0087ff\">Dense</span>)      │ (<span style=\"color: #00d7ff; text-decoration-color: #00d7ff\">None</span>, <span style=\"color: #00d7ff; text-decoration-color: #00d7ff\">None</span>, <span style=\"color: #00af00; text-decoration-color: #00af00\">13</span>)  │      <span style=\"color: #00af00; text-decoration-color: #00af00\">9,997</span> │ disentangled_att… │\n",
       "├─────────────────────┼───────────────────┼────────────┼───────────────────┤\n",
       "│ prediction          │ (<span style=\"color: #00d7ff; text-decoration-color: #00d7ff\">None</span>, <span style=\"color: #00d7ff; text-decoration-color: #00d7ff\">None</span>, <span style=\"color: #00af00; text-decoration-color: #00af00\">13</span>)  │          <span style=\"color: #00af00; text-decoration-color: #00af00\">0</span> │ logits[<span style=\"color: #00af00; text-decoration-color: #00af00\">0</span>][<span style=\"color: #00af00; text-decoration-color: #00af00\">0</span>]      │\n",
       "│ (<span style=\"color: #0087ff; text-decoration-color: #0087ff\">Activation</span>)        │                   │            │                   │\n",
       "└─────────────────────┴───────────────────┴────────────┴───────────────────┘\n",
       "</pre>\n"
      ],
      "text/plain": [
       "┏━━━━━━━━━━━━━━━━━━━━━┳━━━━━━━━━━━━━━━━━━━┳━━━━━━━━━━━━┳━━━━━━━━━━━━━━━━━━━┓\n",
       "┃\u001b[1m \u001b[0m\u001b[1mLayer (type)       \u001b[0m\u001b[1m \u001b[0m┃\u001b[1m \u001b[0m\u001b[1mOutput Shape     \u001b[0m\u001b[1m \u001b[0m┃\u001b[1m \u001b[0m\u001b[1m   Param #\u001b[0m\u001b[1m \u001b[0m┃\u001b[1m \u001b[0m\u001b[1mConnected to     \u001b[0m\u001b[1m \u001b[0m┃\n",
       "┡━━━━━━━━━━━━━━━━━━━━━╇━━━━━━━━━━━━━━━━━━━╇━━━━━━━━━━━━╇━━━━━━━━━━━━━━━━━━━┩\n",
       "│ token_ids           │ (\u001b[38;5;45mNone\u001b[0m, \u001b[38;5;45mNone\u001b[0m)      │          \u001b[38;5;34m0\u001b[0m │ -                 │\n",
       "│ (\u001b[38;5;33mInputLayer\u001b[0m)        │                   │            │                   │\n",
       "├─────────────────────┼───────────────────┼────────────┼───────────────────┤\n",
       "│ token_embedding     │ (\u001b[38;5;45mNone\u001b[0m, \u001b[38;5;45mNone\u001b[0m, \u001b[38;5;34m768\u001b[0m) │ \u001b[38;5;34m98,380,800\u001b[0m │ token_ids[\u001b[38;5;34m0\u001b[0m][\u001b[38;5;34m0\u001b[0m]   │\n",
       "│ (\u001b[38;5;33mReversibleEmbeddi…\u001b[0m │                   │            │                   │\n",
       "├─────────────────────┼───────────────────┼────────────┼───────────────────┤\n",
       "│ embeddings_layer_n… │ (\u001b[38;5;45mNone\u001b[0m, \u001b[38;5;45mNone\u001b[0m, \u001b[38;5;34m768\u001b[0m) │      \u001b[38;5;34m1,536\u001b[0m │ token_embedding[\u001b[38;5;34m…\u001b[0m │\n",
       "│ (\u001b[38;5;33mLayerNormalizatio…\u001b[0m │                   │            │                   │\n",
       "├─────────────────────┼───────────────────┼────────────┼───────────────────┤\n",
       "│ embeddings_dropout  │ (\u001b[38;5;45mNone\u001b[0m, \u001b[38;5;45mNone\u001b[0m, \u001b[38;5;34m768\u001b[0m) │          \u001b[38;5;34m0\u001b[0m │ embeddings_layer… │\n",
       "│ (\u001b[38;5;33mDropout\u001b[0m)           │                   │            │                   │\n",
       "├─────────────────────┼───────────────────┼────────────┼───────────────────┤\n",
       "│ padding_mask        │ (\u001b[38;5;45mNone\u001b[0m, \u001b[38;5;45mNone\u001b[0m)      │          \u001b[38;5;34m0\u001b[0m │ -                 │\n",
       "│ (\u001b[38;5;33mInputLayer\u001b[0m)        │                   │            │                   │\n",
       "├─────────────────────┼───────────────────┼────────────┼───────────────────┤\n",
       "│ rel_embedding       │ (\u001b[38;5;45mNone\u001b[0m, \u001b[38;5;34m512\u001b[0m, \u001b[38;5;34m768\u001b[0m)  │    \u001b[38;5;34m394,752\u001b[0m │ embeddings_dropo… │\n",
       "│ (\u001b[38;5;33mRelativeEmbedding\u001b[0m) │                   │            │                   │\n",
       "├─────────────────────┼───────────────────┼────────────┼───────────────────┤\n",
       "│ disentangled_atten… │ (\u001b[38;5;45mNone\u001b[0m, \u001b[38;5;45mNone\u001b[0m, \u001b[38;5;34m768\u001b[0m) │  \u001b[38;5;34m7,087,872\u001b[0m │ embeddings_dropo… │\n",
       "│ (\u001b[38;5;33mDisentangledAtten…\u001b[0m │                   │            │ padding_mask[\u001b[38;5;34m0\u001b[0m][\u001b[38;5;34m…\u001b[0m │\n",
       "│                     │                   │            │ rel_embedding[\u001b[38;5;34m0\u001b[0m]… │\n",
       "├─────────────────────┼───────────────────┼────────────┼───────────────────┤\n",
       "│ disentangled_atten… │ (\u001b[38;5;45mNone\u001b[0m, \u001b[38;5;45mNone\u001b[0m, \u001b[38;5;34m768\u001b[0m) │  \u001b[38;5;34m7,087,872\u001b[0m │ disentangled_att… │\n",
       "│ (\u001b[38;5;33mDisentangledAtten…\u001b[0m │                   │            │ padding_mask[\u001b[38;5;34m0\u001b[0m][\u001b[38;5;34m…\u001b[0m │\n",
       "│                     │                   │            │ rel_embedding[\u001b[38;5;34m0\u001b[0m]… │\n",
       "├─────────────────────┼───────────────────┼────────────┼───────────────────┤\n",
       "│ disentangled_atten… │ (\u001b[38;5;45mNone\u001b[0m, \u001b[38;5;45mNone\u001b[0m, \u001b[38;5;34m768\u001b[0m) │  \u001b[38;5;34m7,087,872\u001b[0m │ disentangled_att… │\n",
       "│ (\u001b[38;5;33mDisentangledAtten…\u001b[0m │                   │            │ padding_mask[\u001b[38;5;34m0\u001b[0m][\u001b[38;5;34m…\u001b[0m │\n",
       "│                     │                   │            │ rel_embedding[\u001b[38;5;34m0\u001b[0m]… │\n",
       "├─────────────────────┼───────────────────┼────────────┼───────────────────┤\n",
       "│ disentangled_atten… │ (\u001b[38;5;45mNone\u001b[0m, \u001b[38;5;45mNone\u001b[0m, \u001b[38;5;34m768\u001b[0m) │  \u001b[38;5;34m7,087,872\u001b[0m │ disentangled_att… │\n",
       "│ (\u001b[38;5;33mDisentangledAtten…\u001b[0m │                   │            │ padding_mask[\u001b[38;5;34m0\u001b[0m][\u001b[38;5;34m…\u001b[0m │\n",
       "│                     │                   │            │ rel_embedding[\u001b[38;5;34m0\u001b[0m]… │\n",
       "├─────────────────────┼───────────────────┼────────────┼───────────────────┤\n",
       "│ disentangled_atten… │ (\u001b[38;5;45mNone\u001b[0m, \u001b[38;5;45mNone\u001b[0m, \u001b[38;5;34m768\u001b[0m) │  \u001b[38;5;34m7,087,872\u001b[0m │ disentangled_att… │\n",
       "│ (\u001b[38;5;33mDisentangledAtten…\u001b[0m │                   │            │ padding_mask[\u001b[38;5;34m0\u001b[0m][\u001b[38;5;34m…\u001b[0m │\n",
       "│                     │                   │            │ rel_embedding[\u001b[38;5;34m0\u001b[0m]… │\n",
       "├─────────────────────┼───────────────────┼────────────┼───────────────────┤\n",
       "│ disentangled_atten… │ (\u001b[38;5;45mNone\u001b[0m, \u001b[38;5;45mNone\u001b[0m, \u001b[38;5;34m768\u001b[0m) │  \u001b[38;5;34m7,087,872\u001b[0m │ disentangled_att… │\n",
       "│ (\u001b[38;5;33mDisentangledAtten…\u001b[0m │                   │            │ padding_mask[\u001b[38;5;34m0\u001b[0m][\u001b[38;5;34m…\u001b[0m │\n",
       "│                     │                   │            │ rel_embedding[\u001b[38;5;34m0\u001b[0m]… │\n",
       "├─────────────────────┼───────────────────┼────────────┼───────────────────┤\n",
       "│ logits (\u001b[38;5;33mDense\u001b[0m)      │ (\u001b[38;5;45mNone\u001b[0m, \u001b[38;5;45mNone\u001b[0m, \u001b[38;5;34m13\u001b[0m)  │      \u001b[38;5;34m9,997\u001b[0m │ disentangled_att… │\n",
       "├─────────────────────┼───────────────────┼────────────┼───────────────────┤\n",
       "│ prediction          │ (\u001b[38;5;45mNone\u001b[0m, \u001b[38;5;45mNone\u001b[0m, \u001b[38;5;34m13\u001b[0m)  │          \u001b[38;5;34m0\u001b[0m │ logits[\u001b[38;5;34m0\u001b[0m][\u001b[38;5;34m0\u001b[0m]      │\n",
       "│ (\u001b[38;5;33mActivation\u001b[0m)        │                   │            │                   │\n",
       "└─────────────────────┴───────────────────┴────────────┴───────────────────┘\n"
      ]
     },
     "metadata": {},
     "output_type": "display_data"
    },
    {
     "data": {
      "text/html": [
       "<pre style=\"white-space:pre;overflow-x:auto;line-height:normal;font-family:Menlo,'DejaVu Sans Mono',consolas,'Courier New',monospace\"><span style=\"font-weight: bold\"> Total params: </span><span style=\"color: #00af00; text-decoration-color: #00af00\">141,314,317</span> (539.07 MB)\n",
       "</pre>\n"
      ],
      "text/plain": [
       "\u001b[1m Total params: \u001b[0m\u001b[38;5;34m141,314,317\u001b[0m (539.07 MB)\n"
      ]
     },
     "metadata": {},
     "output_type": "display_data"
    },
    {
     "data": {
      "text/html": [
       "<pre style=\"white-space:pre;overflow-x:auto;line-height:normal;font-family:Menlo,'DejaVu Sans Mono',consolas,'Courier New',monospace\"><span style=\"font-weight: bold\"> Trainable params: </span><span style=\"color: #00af00; text-decoration-color: #00af00\">141,314,317</span> (539.07 MB)\n",
       "</pre>\n"
      ],
      "text/plain": [
       "\u001b[1m Trainable params: \u001b[0m\u001b[38;5;34m141,314,317\u001b[0m (539.07 MB)\n"
      ]
     },
     "metadata": {},
     "output_type": "display_data"
    },
    {
     "data": {
      "text/html": [
       "<pre style=\"white-space:pre;overflow-x:auto;line-height:normal;font-family:Menlo,'DejaVu Sans Mono',consolas,'Courier New',monospace\"><span style=\"font-weight: bold\"> Non-trainable params: </span><span style=\"color: #00af00; text-decoration-color: #00af00\">0</span> (0.00 B)\n",
       "</pre>\n"
      ],
      "text/plain": [
       "\u001b[1m Non-trainable params: \u001b[0m\u001b[38;5;34m0\u001b[0m (0.00 B)\n"
      ]
     },
     "metadata": {},
     "output_type": "display_data"
    }
   ],
   "source": [
    "# Build Token Classification model\n",
    "backbone = keras_nlp.models.DebertaV3Backbone.from_preset(\n",
    "    CFG.preset,\n",
    ")\n",
    "out = backbone.output\n",
    "out = keras.layers.Dense(CFG.num_labels, name=\"logits\")(out)\n",
    "out = keras.layers.Activation(\"softmax\", dtype=\"float32\", name=\"prediction\")(out)\n",
    "model = keras.models.Model(backbone.input, out)\n",
    "\n",
    "# Compile model for optimizer, loss and metric\n",
    "model.compile(\n",
    "    optimizer=keras.optimizers.Adam(learning_rate=2e-5),\n",
    "    loss=CrossEntropy(),\n",
    "    metrics=[FBetaScore()],\n",
    ")\n",
    "\n",
    "# Summary of the model architecture\n",
    "model.summary()"
   ]
  },
  {
   "cell_type": "markdown",
   "id": "fb91585d",
   "metadata": {
    "papermill": {
     "duration": 0.023298,
     "end_time": "2024-04-14T05:30:58.309851",
     "exception": false,
     "start_time": "2024-04-14T05:30:58.286553",
     "status": "completed"
    },
    "tags": []
   },
   "source": [
    "# ⚓ | LR Schedule\n",
    "\n",
    "A well-structured learning rate schedule is essential for efficient model training, ensuring optimal convergence and avoiding issues such as overshooting or stagnation."
   ]
  },
  {
   "cell_type": "code",
   "execution_count": 21,
   "id": "e53ae1cf",
   "metadata": {
    "_kg_hide-input": true,
    "execution": {
     "iopub.execute_input": "2024-04-14T05:30:58.359034Z",
     "iopub.status.busy": "2024-04-14T05:30:58.358698Z",
     "iopub.status.idle": "2024-04-14T05:30:58.369366Z",
     "shell.execute_reply": "2024-04-14T05:30:58.368454Z"
    },
    "papermill": {
     "duration": 0.037926,
     "end_time": "2024-04-14T05:30:58.371414",
     "exception": false,
     "start_time": "2024-04-14T05:30:58.333488",
     "status": "completed"
    },
    "tags": []
   },
   "outputs": [],
   "source": [
    "import math\n",
    "\n",
    "def get_lr_callback(batch_size=8, mode='cos', epochs=10, plot=False):\n",
    "    lr_start, lr_max, lr_min = 6e-6, 2.5e-6 * batch_size, 1e-6\n",
    "    lr_ramp_ep, lr_sus_ep, lr_decay = 3, 0, 0.75\n",
    "\n",
    "    def lrfn(epoch):  # Learning rate update function\n",
    "        if epoch < lr_ramp_ep: lr = (lr_max - lr_start) / lr_ramp_ep * epoch + lr_start\n",
    "        elif epoch < lr_ramp_ep + lr_sus_ep: lr = lr_max\n",
    "        elif mode == 'exp': lr = (lr_max - lr_min) * lr_decay**(epoch - lr_ramp_ep - lr_sus_ep) + lr_min\n",
    "        elif mode == 'step': lr = lr_max * lr_decay**((epoch - lr_ramp_ep - lr_sus_ep) // 2)\n",
    "        elif mode == 'cos':\n",
    "            decay_total_epochs, decay_epoch_index = epochs - lr_ramp_ep - lr_sus_ep + 3, epoch - lr_ramp_ep - lr_sus_ep\n",
    "            phase = math.pi * decay_epoch_index / decay_total_epochs\n",
    "            lr = (lr_max - lr_min) * 0.5 * (1 + math.cos(phase)) + lr_min\n",
    "        return lr\n",
    "\n",
    "    if plot:  # Plot lr curve if plot is True\n",
    "        fig = px.line(x=np.arange(epochs),\n",
    "                      y=[lrfn(epoch) for epoch in np.arange(epochs)], \n",
    "                      title='LR Scheduler',\n",
    "                      markers=True,\n",
    "                      labels={'x': 'epoch', 'y': 'lr'})\n",
    "        fig.update_layout(\n",
    "            yaxis = dict(\n",
    "                showexponent = 'all',\n",
    "                exponentformat = 'e'\n",
    "            )\n",
    "        )\n",
    "        fig.show()\n",
    "\n",
    "    return keras.callbacks.LearningRateScheduler(lrfn, verbose=False)  # Create lr callback"
   ]
  },
  {
   "cell_type": "code",
   "execution_count": 22,
   "id": "aca0a16b",
   "metadata": {
    "_kg_hide-input": true,
    "execution": {
     "iopub.execute_input": "2024-04-14T05:30:58.420391Z",
     "iopub.status.busy": "2024-04-14T05:30:58.420140Z",
     "iopub.status.idle": "2024-04-14T05:31:00.246000Z",
     "shell.execute_reply": "2024-04-14T05:31:00.245026Z"
    },
    "papermill": {
     "duration": 1.852859,
     "end_time": "2024-04-14T05:31:00.248182",
     "exception": false,
     "start_time": "2024-04-14T05:30:58.395323",
     "status": "completed"
    },
    "tags": []
   },
   "outputs": [
    {
     "data": {
      "text/html": [
       "<div>                            <div id=\"33f3e1ed-4784-482b-8c46-3ac22199a5b3\" class=\"plotly-graph-div\" style=\"height:525px; width:100%;\"></div>            <script type=\"text/javascript\">                require([\"plotly\"], function(Plotly) {                    window.PLOTLYENV=window.PLOTLYENV || {};                                    if (document.getElementById(\"33f3e1ed-4784-482b-8c46-3ac22199a5b3\")) {                    Plotly.newPlot(                        \"33f3e1ed-4784-482b-8c46-3ac22199a5b3\",                        [{\"hovertemplate\":\"epoch=%{x}\\u003cbr\\u003elr=%{y}\\u003cextra\\u003e\\u003c\\u002fextra\\u003e\",\"legendgroup\":\"\",\"line\":{\"color\":\"#636efa\",\"dash\":\"solid\"},\"marker\":{\"symbol\":\"circle\"},\"mode\":\"lines+markers\",\"name\":\"\",\"orientation\":\"v\",\"showlegend\":false,\"x\":[0,1,2,3,4,5,6,7,8,9],\"xaxis\":\"x\",\"y\":[6e-6,0.000017333333333333332,0.000028666666666666668,0.00004,0.000030250000000000007,0.000022937500000000005,0.000017453125000000002,0.000013339843750000002,0.000010254882812500002,7.941162109375002e-6],\"yaxis\":\"y\",\"type\":\"scatter\"}],                        {\"template\":{\"data\":{\"histogram2dcontour\":[{\"type\":\"histogram2dcontour\",\"colorbar\":{\"outlinewidth\":0,\"ticks\":\"\"},\"colorscale\":[[0.0,\"#0d0887\"],[0.1111111111111111,\"#46039f\"],[0.2222222222222222,\"#7201a8\"],[0.3333333333333333,\"#9c179e\"],[0.4444444444444444,\"#bd3786\"],[0.5555555555555556,\"#d8576b\"],[0.6666666666666666,\"#ed7953\"],[0.7777777777777778,\"#fb9f3a\"],[0.8888888888888888,\"#fdca26\"],[1.0,\"#f0f921\"]]}],\"choropleth\":[{\"type\":\"choropleth\",\"colorbar\":{\"outlinewidth\":0,\"ticks\":\"\"}}],\"histogram2d\":[{\"type\":\"histogram2d\",\"colorbar\":{\"outlinewidth\":0,\"ticks\":\"\"},\"colorscale\":[[0.0,\"#0d0887\"],[0.1111111111111111,\"#46039f\"],[0.2222222222222222,\"#7201a8\"],[0.3333333333333333,\"#9c179e\"],[0.4444444444444444,\"#bd3786\"],[0.5555555555555556,\"#d8576b\"],[0.6666666666666666,\"#ed7953\"],[0.7777777777777778,\"#fb9f3a\"],[0.8888888888888888,\"#fdca26\"],[1.0,\"#f0f921\"]]}],\"heatmap\":[{\"type\":\"heatmap\",\"colorbar\":{\"outlinewidth\":0,\"ticks\":\"\"},\"colorscale\":[[0.0,\"#0d0887\"],[0.1111111111111111,\"#46039f\"],[0.2222222222222222,\"#7201a8\"],[0.3333333333333333,\"#9c179e\"],[0.4444444444444444,\"#bd3786\"],[0.5555555555555556,\"#d8576b\"],[0.6666666666666666,\"#ed7953\"],[0.7777777777777778,\"#fb9f3a\"],[0.8888888888888888,\"#fdca26\"],[1.0,\"#f0f921\"]]}],\"heatmapgl\":[{\"type\":\"heatmapgl\",\"colorbar\":{\"outlinewidth\":0,\"ticks\":\"\"},\"colorscale\":[[0.0,\"#0d0887\"],[0.1111111111111111,\"#46039f\"],[0.2222222222222222,\"#7201a8\"],[0.3333333333333333,\"#9c179e\"],[0.4444444444444444,\"#bd3786\"],[0.5555555555555556,\"#d8576b\"],[0.6666666666666666,\"#ed7953\"],[0.7777777777777778,\"#fb9f3a\"],[0.8888888888888888,\"#fdca26\"],[1.0,\"#f0f921\"]]}],\"contourcarpet\":[{\"type\":\"contourcarpet\",\"colorbar\":{\"outlinewidth\":0,\"ticks\":\"\"}}],\"contour\":[{\"type\":\"contour\",\"colorbar\":{\"outlinewidth\":0,\"ticks\":\"\"},\"colorscale\":[[0.0,\"#0d0887\"],[0.1111111111111111,\"#46039f\"],[0.2222222222222222,\"#7201a8\"],[0.3333333333333333,\"#9c179e\"],[0.4444444444444444,\"#bd3786\"],[0.5555555555555556,\"#d8576b\"],[0.6666666666666666,\"#ed7953\"],[0.7777777777777778,\"#fb9f3a\"],[0.8888888888888888,\"#fdca26\"],[1.0,\"#f0f921\"]]}],\"surface\":[{\"type\":\"surface\",\"colorbar\":{\"outlinewidth\":0,\"ticks\":\"\"},\"colorscale\":[[0.0,\"#0d0887\"],[0.1111111111111111,\"#46039f\"],[0.2222222222222222,\"#7201a8\"],[0.3333333333333333,\"#9c179e\"],[0.4444444444444444,\"#bd3786\"],[0.5555555555555556,\"#d8576b\"],[0.6666666666666666,\"#ed7953\"],[0.7777777777777778,\"#fb9f3a\"],[0.8888888888888888,\"#fdca26\"],[1.0,\"#f0f921\"]]}],\"mesh3d\":[{\"type\":\"mesh3d\",\"colorbar\":{\"outlinewidth\":0,\"ticks\":\"\"}}],\"scatter\":[{\"fillpattern\":{\"fillmode\":\"overlay\",\"size\":10,\"solidity\":0.2},\"type\":\"scatter\"}],\"parcoords\":[{\"type\":\"parcoords\",\"line\":{\"colorbar\":{\"outlinewidth\":0,\"ticks\":\"\"}}}],\"scatterpolargl\":[{\"type\":\"scatterpolargl\",\"marker\":{\"colorbar\":{\"outlinewidth\":0,\"ticks\":\"\"}}}],\"bar\":[{\"error_x\":{\"color\":\"#2a3f5f\"},\"error_y\":{\"color\":\"#2a3f5f\"},\"marker\":{\"line\":{\"color\":\"#E5ECF6\",\"width\":0.5},\"pattern\":{\"fillmode\":\"overlay\",\"size\":10,\"solidity\":0.2}},\"type\":\"bar\"}],\"scattergeo\":[{\"type\":\"scattergeo\",\"marker\":{\"colorbar\":{\"outlinewidth\":0,\"ticks\":\"\"}}}],\"scatterpolar\":[{\"type\":\"scatterpolar\",\"marker\":{\"colorbar\":{\"outlinewidth\":0,\"ticks\":\"\"}}}],\"histogram\":[{\"marker\":{\"pattern\":{\"fillmode\":\"overlay\",\"size\":10,\"solidity\":0.2}},\"type\":\"histogram\"}],\"scattergl\":[{\"type\":\"scattergl\",\"marker\":{\"colorbar\":{\"outlinewidth\":0,\"ticks\":\"\"}}}],\"scatter3d\":[{\"type\":\"scatter3d\",\"line\":{\"colorbar\":{\"outlinewidth\":0,\"ticks\":\"\"}},\"marker\":{\"colorbar\":{\"outlinewidth\":0,\"ticks\":\"\"}}}],\"scattermapbox\":[{\"type\":\"scattermapbox\",\"marker\":{\"colorbar\":{\"outlinewidth\":0,\"ticks\":\"\"}}}],\"scatterternary\":[{\"type\":\"scatterternary\",\"marker\":{\"colorbar\":{\"outlinewidth\":0,\"ticks\":\"\"}}}],\"scattercarpet\":[{\"type\":\"scattercarpet\",\"marker\":{\"colorbar\":{\"outlinewidth\":0,\"ticks\":\"\"}}}],\"carpet\":[{\"aaxis\":{\"endlinecolor\":\"#2a3f5f\",\"gridcolor\":\"white\",\"linecolor\":\"white\",\"minorgridcolor\":\"white\",\"startlinecolor\":\"#2a3f5f\"},\"baxis\":{\"endlinecolor\":\"#2a3f5f\",\"gridcolor\":\"white\",\"linecolor\":\"white\",\"minorgridcolor\":\"white\",\"startlinecolor\":\"#2a3f5f\"},\"type\":\"carpet\"}],\"table\":[{\"cells\":{\"fill\":{\"color\":\"#EBF0F8\"},\"line\":{\"color\":\"white\"}},\"header\":{\"fill\":{\"color\":\"#C8D4E3\"},\"line\":{\"color\":\"white\"}},\"type\":\"table\"}],\"barpolar\":[{\"marker\":{\"line\":{\"color\":\"#E5ECF6\",\"width\":0.5},\"pattern\":{\"fillmode\":\"overlay\",\"size\":10,\"solidity\":0.2}},\"type\":\"barpolar\"}],\"pie\":[{\"automargin\":true,\"type\":\"pie\"}]},\"layout\":{\"autotypenumbers\":\"strict\",\"colorway\":[\"#636efa\",\"#EF553B\",\"#00cc96\",\"#ab63fa\",\"#FFA15A\",\"#19d3f3\",\"#FF6692\",\"#B6E880\",\"#FF97FF\",\"#FECB52\"],\"font\":{\"color\":\"#2a3f5f\"},\"hovermode\":\"closest\",\"hoverlabel\":{\"align\":\"left\"},\"paper_bgcolor\":\"white\",\"plot_bgcolor\":\"#E5ECF6\",\"polar\":{\"bgcolor\":\"#E5ECF6\",\"angularaxis\":{\"gridcolor\":\"white\",\"linecolor\":\"white\",\"ticks\":\"\"},\"radialaxis\":{\"gridcolor\":\"white\",\"linecolor\":\"white\",\"ticks\":\"\"}},\"ternary\":{\"bgcolor\":\"#E5ECF6\",\"aaxis\":{\"gridcolor\":\"white\",\"linecolor\":\"white\",\"ticks\":\"\"},\"baxis\":{\"gridcolor\":\"white\",\"linecolor\":\"white\",\"ticks\":\"\"},\"caxis\":{\"gridcolor\":\"white\",\"linecolor\":\"white\",\"ticks\":\"\"}},\"coloraxis\":{\"colorbar\":{\"outlinewidth\":0,\"ticks\":\"\"}},\"colorscale\":{\"sequential\":[[0.0,\"#0d0887\"],[0.1111111111111111,\"#46039f\"],[0.2222222222222222,\"#7201a8\"],[0.3333333333333333,\"#9c179e\"],[0.4444444444444444,\"#bd3786\"],[0.5555555555555556,\"#d8576b\"],[0.6666666666666666,\"#ed7953\"],[0.7777777777777778,\"#fb9f3a\"],[0.8888888888888888,\"#fdca26\"],[1.0,\"#f0f921\"]],\"sequentialminus\":[[0.0,\"#0d0887\"],[0.1111111111111111,\"#46039f\"],[0.2222222222222222,\"#7201a8\"],[0.3333333333333333,\"#9c179e\"],[0.4444444444444444,\"#bd3786\"],[0.5555555555555556,\"#d8576b\"],[0.6666666666666666,\"#ed7953\"],[0.7777777777777778,\"#fb9f3a\"],[0.8888888888888888,\"#fdca26\"],[1.0,\"#f0f921\"]],\"diverging\":[[0,\"#8e0152\"],[0.1,\"#c51b7d\"],[0.2,\"#de77ae\"],[0.3,\"#f1b6da\"],[0.4,\"#fde0ef\"],[0.5,\"#f7f7f7\"],[0.6,\"#e6f5d0\"],[0.7,\"#b8e186\"],[0.8,\"#7fbc41\"],[0.9,\"#4d9221\"],[1,\"#276419\"]]},\"xaxis\":{\"gridcolor\":\"white\",\"linecolor\":\"white\",\"ticks\":\"\",\"title\":{\"standoff\":15},\"zerolinecolor\":\"white\",\"automargin\":true,\"zerolinewidth\":2},\"yaxis\":{\"gridcolor\":\"white\",\"linecolor\":\"white\",\"ticks\":\"\",\"title\":{\"standoff\":15},\"zerolinecolor\":\"white\",\"automargin\":true,\"zerolinewidth\":2},\"scene\":{\"xaxis\":{\"backgroundcolor\":\"#E5ECF6\",\"gridcolor\":\"white\",\"linecolor\":\"white\",\"showbackground\":true,\"ticks\":\"\",\"zerolinecolor\":\"white\",\"gridwidth\":2},\"yaxis\":{\"backgroundcolor\":\"#E5ECF6\",\"gridcolor\":\"white\",\"linecolor\":\"white\",\"showbackground\":true,\"ticks\":\"\",\"zerolinecolor\":\"white\",\"gridwidth\":2},\"zaxis\":{\"backgroundcolor\":\"#E5ECF6\",\"gridcolor\":\"white\",\"linecolor\":\"white\",\"showbackground\":true,\"ticks\":\"\",\"zerolinecolor\":\"white\",\"gridwidth\":2}},\"shapedefaults\":{\"line\":{\"color\":\"#2a3f5f\"}},\"annotationdefaults\":{\"arrowcolor\":\"#2a3f5f\",\"arrowhead\":0,\"arrowwidth\":1},\"geo\":{\"bgcolor\":\"white\",\"landcolor\":\"#E5ECF6\",\"subunitcolor\":\"white\",\"showland\":true,\"showlakes\":true,\"lakecolor\":\"white\"},\"title\":{\"x\":0.05},\"mapbox\":{\"style\":\"light\"}}},\"xaxis\":{\"anchor\":\"y\",\"domain\":[0.0,1.0],\"title\":{\"text\":\"epoch\"}},\"yaxis\":{\"anchor\":\"x\",\"domain\":[0.0,1.0],\"title\":{\"text\":\"lr\"},\"showexponent\":\"all\",\"exponentformat\":\"e\"},\"legend\":{\"tracegroupgap\":0},\"title\":{\"text\":\"LR Scheduler\"}},                        {\"responsive\": true}                    ).then(function(){\n",
       "                            \n",
       "var gd = document.getElementById('33f3e1ed-4784-482b-8c46-3ac22199a5b3');\n",
       "var x = new MutationObserver(function (mutations, observer) {{\n",
       "        var display = window.getComputedStyle(gd).display;\n",
       "        if (!display || display === 'none') {{\n",
       "            console.log([gd, 'removed!']);\n",
       "            Plotly.purge(gd);\n",
       "            observer.disconnect();\n",
       "        }}\n",
       "}});\n",
       "\n",
       "// Listen for the removal of the full notebook cells\n",
       "var notebookContainer = gd.closest('#notebook-container');\n",
       "if (notebookContainer) {{\n",
       "    x.observe(notebookContainer, {childList: true});\n",
       "}}\n",
       "\n",
       "// Listen for the clearing of the current output cell\n",
       "var outputEl = gd.closest('.output');\n",
       "if (outputEl) {{\n",
       "    x.observe(outputEl, {childList: true});\n",
       "}}\n",
       "\n",
       "                        })                };                });            </script>        </div>"
      ]
     },
     "metadata": {},
     "output_type": "display_data"
    }
   ],
   "source": [
    "lr_cb = get_lr_callback(CFG.train_batch_size, mode=CFG.lr_mode, plot=True)"
   ]
  },
  {
   "cell_type": "markdown",
   "id": "e0a298f2",
   "metadata": {
    "papermill": {
     "duration": 0.023495,
     "end_time": "2024-04-14T05:31:00.296601",
     "exception": false,
     "start_time": "2024-04-14T05:31:00.273106",
     "status": "completed"
    },
    "tags": []
   },
   "source": [
    "# 🚂 | Training"
   ]
  },
  {
   "cell_type": "code",
   "execution_count": 23,
   "id": "c5b7dcf2",
   "metadata": {
    "execution": {
     "iopub.execute_input": "2024-04-14T05:31:00.346168Z",
     "iopub.status.busy": "2024-04-14T05:31:00.345447Z",
     "iopub.status.idle": "2024-04-14T06:24:26.301943Z",
     "shell.execute_reply": "2024-04-14T06:24:26.300970Z"
    },
    "papermill": {
     "duration": 3206.173099,
     "end_time": "2024-04-14T06:24:26.493197",
     "exception": false,
     "start_time": "2024-04-14T05:31:00.320098",
     "status": "completed"
    },
    "tags": []
   },
   "outputs": [
    {
     "name": "stdout",
     "output_type": "stream",
     "text": [
      "Epoch 1/6\n",
      "\u001b[1m340/340\u001b[0m \u001b[32m━━━━━━━━━━━━━━━━━━━━\u001b[0m\u001b[37m\u001b[0m \u001b[1m623s\u001b[0m 2s/step - f5_score: 0.0263 - loss: 0.4733 - val_f5_score: 0.0092 - val_loss: 0.0044 - learning_rate: 6.0000e-06\n",
      "Epoch 2/6\n",
      "\u001b[1m340/340\u001b[0m \u001b[32m━━━━━━━━━━━━━━━━━━━━\u001b[0m\u001b[37m\u001b[0m \u001b[1m523s\u001b[0m 2s/step - f5_score: 0.0951 - loss: 0.0032 - val_f5_score: 0.6218 - val_loss: 0.0013 - learning_rate: 1.7333e-05\n",
      "Epoch 3/6\n",
      "\u001b[1m340/340\u001b[0m \u001b[32m━━━━━━━━━━━━━━━━━━━━\u001b[0m\u001b[37m\u001b[0m \u001b[1m519s\u001b[0m 2s/step - f5_score: 0.5567 - loss: 0.0013 - val_f5_score: 0.8026 - val_loss: 6.6294e-04 - learning_rate: 2.8667e-05\n",
      "Epoch 4/6\n",
      "\u001b[1m340/340\u001b[0m \u001b[32m━━━━━━━━━━━━━━━━━━━━\u001b[0m\u001b[37m\u001b[0m \u001b[1m511s\u001b[0m 2s/step - f5_score: 0.7931 - loss: 6.2064e-04 - val_f5_score: 0.9410 - val_loss: 5.6766e-04 - learning_rate: 4.0000e-05\n",
      "Epoch 5/6\n",
      "\u001b[1m340/340\u001b[0m \u001b[32m━━━━━━━━━━━━━━━━━━━━\u001b[0m\u001b[37m\u001b[0m \u001b[1m511s\u001b[0m 2s/step - f5_score: 0.9278 - loss: 2.8514e-04 - val_f5_score: 0.9096 - val_loss: 4.2872e-04 - learning_rate: 3.0250e-05\n",
      "Epoch 6/6\n",
      "\u001b[1m340/340\u001b[0m \u001b[32m━━━━━━━━━━━━━━━━━━━━\u001b[0m\u001b[37m\u001b[0m \u001b[1m508s\u001b[0m 1s/step - f5_score: 0.9567 - loss: 1.3675e-04 - val_f5_score: 0.8837 - val_loss: 4.1567e-04 - learning_rate: 2.2938e-05\n"
     ]
    }
   ],
   "source": [
    "if CFG.train:\n",
    "    history = model.fit(\n",
    "        train_ds,\n",
    "        validation_data=valid_ds,\n",
    "        epochs=CFG.epochs,\n",
    "        callbacks=[lr_cb],\n",
    "        verbose=1,\n",
    "    )\n",
    "else:\n",
    "    model.load_weights(\"/kaggle/input/pii-data-detection-ckpt-ds/model.weights.h5\")"
   ]
  },
  {
   "cell_type": "markdown",
   "id": "87fe4779",
   "metadata": {
    "papermill": {
     "duration": 0.189402,
     "end_time": "2024-04-14T06:24:26.870570",
     "exception": false,
     "start_time": "2024-04-14T06:24:26.681168",
     "status": "completed"
    },
    "tags": []
   },
   "source": [
    "Even though this notebook does both training and inference, let's store the **weights** of the trained model on disk in case we may need it later. Also, if you need more time for inference, you can create separate notebooks for training and inference.\n",
    "\n",
    "> **Note**: The filename of the weights should end in `.weights.h5`"
   ]
  },
  {
   "cell_type": "code",
   "execution_count": 24,
   "id": "c0c0040d",
   "metadata": {
    "execution": {
     "iopub.execute_input": "2024-04-14T06:24:27.295404Z",
     "iopub.status.busy": "2024-04-14T06:24:27.295038Z",
     "iopub.status.idle": "2024-04-14T06:24:31.539147Z",
     "shell.execute_reply": "2024-04-14T06:24:31.538097Z"
    },
    "papermill": {
     "duration": 4.43536,
     "end_time": "2024-04-14T06:24:31.541790",
     "exception": false,
     "start_time": "2024-04-14T06:24:27.106430",
     "status": "completed"
    },
    "tags": []
   },
   "outputs": [],
   "source": [
    "model.save_weights(\"model.weights.h5\")"
   ]
  },
  {
   "cell_type": "markdown",
   "id": "f1df1909",
   "metadata": {
    "papermill": {
     "duration": 0.197864,
     "end_time": "2024-04-14T06:24:33.009359",
     "exception": false,
     "start_time": "2024-04-14T06:24:32.811495",
     "status": "completed"
    },
    "tags": []
   },
   "source": [
    "# 🔬 | Evaluation\n",
    "\n",
    "We have trained and validated our model on a `1024` sequence length; however, we will be making inference using a `2000` sequence length. Thus, it is important to check how our model performs with `2000` sequence length inputs."
   ]
  },
  {
   "cell_type": "code",
   "execution_count": 25,
   "id": "b84d357b",
   "metadata": {
    "execution": {
     "iopub.execute_input": "2024-04-14T06:24:33.417457Z",
     "iopub.status.busy": "2024-04-14T06:24:33.416530Z",
     "iopub.status.idle": "2024-04-14T06:24:39.980694Z",
     "shell.execute_reply": "2024-04-14T06:24:39.979554Z"
    },
    "papermill": {
     "duration": 6.767286,
     "end_time": "2024-04-14T06:24:39.984565",
     "exception": false,
     "start_time": "2024-04-14T06:24:33.217279",
     "status": "completed"
    },
    "tags": []
   },
   "outputs": [],
   "source": [
    "# Build Validation dataloader with \"infer_seq_len\"\n",
    "valid_ds = build_dataset(valid_words, valid_labels, return_ids=False, batch_size=CFG.infer_batch_size,\n",
    "                        seq_len=CFG.infer_seq_len, shuffle=False, cache=False)"
   ]
  },
  {
   "cell_type": "code",
   "execution_count": 26,
   "id": "6c2c9280",
   "metadata": {
    "execution": {
     "iopub.execute_input": "2024-04-14T06:24:40.456988Z",
     "iopub.status.busy": "2024-04-14T06:24:40.456516Z",
     "iopub.status.idle": "2024-04-14T06:27:14.981549Z",
     "shell.execute_reply": "2024-04-14T06:27:14.980590Z"
    },
    "papermill": {
     "duration": 154.949337,
     "end_time": "2024-04-14T06:27:15.173579",
     "exception": false,
     "start_time": "2024-04-14T06:24:40.224242",
     "status": "completed"
    },
    "tags": []
   },
   "outputs": [
    {
     "data": {
      "text/plain": [
       "{'f5_score': 0.8747764229774475, 'loss': 0.0004389217356219888}"
      ]
     },
     "execution_count": 26,
     "metadata": {},
     "output_type": "execute_result"
    }
   ],
   "source": [
    "# Evaluate\n",
    "model.evaluate(valid_ds, return_dict=True, verbose=0)"
   ]
  },
  {
   "cell_type": "markdown",
   "id": "0ded97e6",
   "metadata": {
    "papermill": {
     "duration": 0.188721,
     "end_time": "2024-04-14T06:27:15.551454",
     "exception": false,
     "start_time": "2024-04-14T06:27:15.362733",
     "status": "completed"
    },
    "tags": []
   },
   "source": [
    "# 🧪 | Prediction"
   ]
  },
  {
   "cell_type": "markdown",
   "id": "fcb3310d",
   "metadata": {
    "papermill": {
     "duration": 0.186642,
     "end_time": "2024-04-14T06:27:15.924485",
     "exception": false,
     "start_time": "2024-04-14T06:27:15.737843",
     "status": "completed"
    },
    "tags": []
   },
   "source": [
    "## Build Test Dataloader"
   ]
  },
  {
   "cell_type": "code",
   "execution_count": 27,
   "id": "a4aaed1b",
   "metadata": {
    "execution": {
     "iopub.execute_input": "2024-04-14T06:27:16.302082Z",
     "iopub.status.busy": "2024-04-14T06:27:16.301180Z",
     "iopub.status.idle": "2024-04-14T06:27:17.747789Z",
     "shell.execute_reply": "2024-04-14T06:27:17.747013Z"
    },
    "papermill": {
     "duration": 1.637078,
     "end_time": "2024-04-14T06:27:17.750023",
     "exception": false,
     "start_time": "2024-04-14T06:27:16.112945",
     "status": "completed"
    },
    "tags": []
   },
   "outputs": [
    {
     "data": {
      "application/vnd.jupyter.widget-view+json": {
       "model_id": "7f3fb8ccbf2f4665a25117ce51a00c3a",
       "version_major": 2,
       "version_minor": 0
      },
      "text/plain": [
       "  0%|          | 0/12 [00:00<?, ?it/s]"
      ]
     },
     "metadata": {},
     "output_type": "display_data"
    }
   ],
   "source": [
    "# Test data\n",
    "test_data = json.load(open(f\"{BASE_PATH}/test.json\"))\n",
    "\n",
    "# Ensure number of samples is divisble by number of devices\n",
    "need_samples  = len(devices) - len(test_data) % len(devices)\n",
    "for _ in range(need_samples):\n",
    "    test_data.append(test_data[-1]) # repeat the last sample\n",
    "    \n",
    "# Initialize empty arrays\n",
    "test_words = np.empty(len(test_data), dtype=object)\n",
    "test_docs = np.empty(len(test_data), dtype=np.int32)\n",
    "\n",
    "# Fill the arrays\n",
    "for i, x in tqdm(enumerate(test_data), total=len(test_data)):\n",
    "    test_words[i] = np.array(x[\"tokens\"])\n",
    "    test_docs[i] = x[\"document\"]\n",
    "\n",
    "# Get token ids\n",
    "id_ds = build_dataset(test_words, return_ids=True, batch_size=len(test_words), \n",
    "                        seq_len=CFG.infer_seq_len, shuffle=False, cache=False, drop_remainder=False)\n",
    "test_token_ids = ops.convert_to_numpy([ids for ids in iter(id_ds)][0])\n",
    "\n",
    "# Build test dataloader\n",
    "test_ds = build_dataset(test_words, return_ids=False, batch_size=CFG.infer_batch_size,\n",
    "                        seq_len=CFG.infer_seq_len, shuffle=False, cache=False, drop_remainder=False)"
   ]
  },
  {
   "cell_type": "markdown",
   "id": "99652df4",
   "metadata": {
    "papermill": {
     "duration": 0.188645,
     "end_time": "2024-04-14T06:27:18.128592",
     "exception": false,
     "start_time": "2024-04-14T06:27:17.939947",
     "status": "completed"
    },
    "tags": []
   },
   "source": [
    "## Inference"
   ]
  },
  {
   "cell_type": "code",
   "execution_count": 28,
   "id": "6aea2512",
   "metadata": {
    "execution": {
     "iopub.execute_input": "2024-04-14T06:27:18.509109Z",
     "iopub.status.busy": "2024-04-14T06:27:18.508391Z",
     "iopub.status.idle": "2024-04-14T06:27:23.246890Z",
     "shell.execute_reply": "2024-04-14T06:27:23.246077Z"
    },
    "papermill": {
     "duration": 4.932217,
     "end_time": "2024-04-14T06:27:23.249107",
     "exception": false,
     "start_time": "2024-04-14T06:27:18.316890",
     "status": "completed"
    },
    "tags": []
   },
   "outputs": [
    {
     "name": "stdout",
     "output_type": "stream",
     "text": [
      "\u001b[1m3/3\u001b[0m \u001b[32m━━━━━━━━━━━━━━━━━━━━\u001b[0m\u001b[37m\u001b[0m \u001b[1m4s\u001b[0m 7ms/step\n"
     ]
    }
   ],
   "source": [
    "# Do inference\n",
    "test_preds = model.predict(test_ds, verbose=1)\n",
    "\n",
    "# Convert probabilities to class labels via max confidence\n",
    "test_preds = np.argmax(test_preds, axis=-1)"
   ]
  },
  {
   "cell_type": "markdown",
   "id": "9b16fac6",
   "metadata": {
    "papermill": {
     "duration": 0.238967,
     "end_time": "2024-04-14T06:27:23.682383",
     "exception": false,
     "start_time": "2024-04-14T06:27:23.443416",
     "status": "completed"
    },
    "tags": []
   },
   "source": [
    "## Remove Extra Samples\n",
    "\n",
    "We need to remove the extra samples we added to the test data to ensure the number of samples is divisible by the number of devices."
   ]
  },
  {
   "cell_type": "code",
   "execution_count": 29,
   "id": "12c8d7ec",
   "metadata": {
    "execution": {
     "iopub.execute_input": "2024-04-14T06:27:24.057970Z",
     "iopub.status.busy": "2024-04-14T06:27:24.057592Z",
     "iopub.status.idle": "2024-04-14T06:27:24.062332Z",
     "shell.execute_reply": "2024-04-14T06:27:24.061571Z"
    },
    "papermill": {
     "duration": 0.194903,
     "end_time": "2024-04-14T06:27:24.064265",
     "exception": false,
     "start_time": "2024-04-14T06:27:23.869362",
     "status": "completed"
    },
    "tags": []
   },
   "outputs": [],
   "source": [
    "test_docs = test_docs[:-need_samples]\n",
    "test_token_ids = test_token_ids[:-need_samples]\n",
    "test_preds = test_preds[:-need_samples]\n",
    "test_words = test_words[:-need_samples]"
   ]
  },
  {
   "cell_type": "markdown",
   "id": "991393f6",
   "metadata": {
    "papermill": {
     "duration": 0.215181,
     "end_time": "2024-04-14T06:27:24.467172",
     "exception": false,
     "start_time": "2024-04-14T06:27:24.251991",
     "status": "completed"
    },
    "tags": []
   },
   "source": [
    "## 🧹 | Post-Processing\n",
    "\n",
    "The following code processes the prediction to filter out unwanted parts. Specifically, it does the following:\n",
    "\n",
    "1. It filters out any tokens of a word that are not at the start (refer to the [🥣 | Data Processing](https://www.kaggle.com/code/awsaf49/pii-data-detection-kerasnlp-starter-notebook#%F0%9F%A5%A3-%7C-Data-Processing) section for more details).\n",
    "2. It removes samples labeled as `O` (BIO format), as the submission file requires only non-`O` samples.\n",
    "3. It ignores predictions for special tokens like `[CLS]`, `[SEP]`, and `[PAD]`.\n",
    "\n",
    "> **Note**: A unique feature of following post-processing is that it uses numpy vectorized operations to filter out predictions, making it very fast and efficient."
   ]
  },
  {
   "cell_type": "code",
   "execution_count": 30,
   "id": "012ddb71",
   "metadata": {
    "execution": {
     "iopub.execute_input": "2024-04-14T06:27:24.846368Z",
     "iopub.status.busy": "2024-04-14T06:27:24.846014Z",
     "iopub.status.idle": "2024-04-14T06:27:24.869010Z",
     "shell.execute_reply": "2024-04-14T06:27:24.868152Z"
    },
    "papermill": {
     "duration": 0.216714,
     "end_time": "2024-04-14T06:27:24.875221",
     "exception": false,
     "start_time": "2024-04-14T06:27:24.658507",
     "status": "completed"
    },
    "tags": []
   },
   "outputs": [
    {
     "data": {
      "application/vnd.jupyter.widget-view+json": {
       "model_id": "560f4edbafb8475196375c30523e57ae",
       "version_major": 2,
       "version_minor": 0
      },
      "text/plain": [
       "  0%|          | 0/10 [00:00<?, ?it/s]"
      ]
     },
     "metadata": {},
     "output_type": "display_data"
    }
   ],
   "source": [
    "document_list = []\n",
    "token_id_list = []\n",
    "label_id_list = []\n",
    "token_list = []\n",
    "\n",
    "for doc, token_ids, preds, tokens in tqdm(\n",
    "    zip(test_docs, test_token_ids, test_preds, test_words), total=len(test_words)\n",
    "):\n",
    "    # Create mask for filtering\n",
    "    mask1 = np.concatenate(([True], token_ids[1:] != token_ids[:-1])) # ignore non-start tokens of a word\n",
    "    mask2 = (preds != 12) # ignore `O` (BIO format) label -> 12 (integer format) label\n",
    "    mask3 = (token_ids != -1)  # ignore [CLS], [SEP], and [PAD] tokens\n",
    "    mask = (mask1 & mask2 & mask3) # merge filters\n",
    "    \n",
    "    # Apply filter\n",
    "    token_ids = token_ids[mask]\n",
    "    preds = preds[mask]\n",
    "\n",
    "     # Store prediction if number of tokens is not zero\n",
    "    if len(token_ids):\n",
    "        token_list.extend(tokens[token_ids])\n",
    "        document_list.extend([doc] * len(token_ids))\n",
    "        token_id_list.extend(token_ids)\n",
    "        label_id_list.extend(preds)"
   ]
  },
  {
   "cell_type": "markdown",
   "id": "cbc6fa5e",
   "metadata": {
    "papermill": {
     "duration": 0.186333,
     "end_time": "2024-04-14T06:27:25.249777",
     "exception": false,
     "start_time": "2024-04-14T06:27:25.063444",
     "status": "completed"
    },
    "tags": []
   },
   "source": [
    "# 📩 | Submission\n",
    "\n",
    "Let's build a dataframe from the predictions which will help us visually check if our model is predicting correctly or not. We also have to map **integer** labels to **string** BIO format labels."
   ]
  },
  {
   "cell_type": "code",
   "execution_count": 31,
   "id": "671ef6a3",
   "metadata": {
    "execution": {
     "iopub.execute_input": "2024-04-14T06:27:25.630137Z",
     "iopub.status.busy": "2024-04-14T06:27:25.629722Z",
     "iopub.status.idle": "2024-04-14T06:27:25.665028Z",
     "shell.execute_reply": "2024-04-14T06:27:25.664064Z"
    },
    "papermill": {
     "duration": 0.227759,
     "end_time": "2024-04-14T06:27:25.667271",
     "exception": false,
     "start_time": "2024-04-14T06:27:25.439512",
     "status": "completed"
    },
    "tags": []
   },
   "outputs": [
    {
     "data": {
      "text/html": [
       "<div>\n",
       "<style scoped>\n",
       "    .dataframe tbody tr th:only-of-type {\n",
       "        vertical-align: middle;\n",
       "    }\n",
       "\n",
       "    .dataframe tbody tr th {\n",
       "        vertical-align: top;\n",
       "    }\n",
       "\n",
       "    .dataframe thead th {\n",
       "        text-align: right;\n",
       "    }\n",
       "</style>\n",
       "<table border=\"1\" class=\"dataframe\">\n",
       "  <thead>\n",
       "    <tr style=\"text-align: right;\">\n",
       "      <th></th>\n",
       "      <th>row_id</th>\n",
       "      <th>document</th>\n",
       "      <th>token</th>\n",
       "      <th>label_id</th>\n",
       "      <th>token_string</th>\n",
       "      <th>label</th>\n",
       "    </tr>\n",
       "  </thead>\n",
       "  <tbody>\n",
       "    <tr>\n",
       "      <th>0</th>\n",
       "      <td>0</td>\n",
       "      <td>7</td>\n",
       "      <td>9</td>\n",
       "      <td>2</td>\n",
       "      <td>Nathalie</td>\n",
       "      <td>B-NAME_STUDENT</td>\n",
       "    </tr>\n",
       "    <tr>\n",
       "      <th>1</th>\n",
       "      <td>1</td>\n",
       "      <td>7</td>\n",
       "      <td>10</td>\n",
       "      <td>8</td>\n",
       "      <td>Sylla</td>\n",
       "      <td>I-NAME_STUDENT</td>\n",
       "    </tr>\n",
       "    <tr>\n",
       "      <th>2</th>\n",
       "      <td>2</td>\n",
       "      <td>7</td>\n",
       "      <td>482</td>\n",
       "      <td>2</td>\n",
       "      <td>Nathalie</td>\n",
       "      <td>B-NAME_STUDENT</td>\n",
       "    </tr>\n",
       "    <tr>\n",
       "      <th>3</th>\n",
       "      <td>3</td>\n",
       "      <td>7</td>\n",
       "      <td>483</td>\n",
       "      <td>8</td>\n",
       "      <td>Sylla</td>\n",
       "      <td>I-NAME_STUDENT</td>\n",
       "    </tr>\n",
       "    <tr>\n",
       "      <th>4</th>\n",
       "      <td>4</td>\n",
       "      <td>7</td>\n",
       "      <td>741</td>\n",
       "      <td>2</td>\n",
       "      <td>Nathalie</td>\n",
       "      <td>B-NAME_STUDENT</td>\n",
       "    </tr>\n",
       "    <tr>\n",
       "      <th>5</th>\n",
       "      <td>5</td>\n",
       "      <td>7</td>\n",
       "      <td>742</td>\n",
       "      <td>8</td>\n",
       "      <td>Sylla</td>\n",
       "      <td>I-NAME_STUDENT</td>\n",
       "    </tr>\n",
       "    <tr>\n",
       "      <th>6</th>\n",
       "      <td>6</td>\n",
       "      <td>10</td>\n",
       "      <td>0</td>\n",
       "      <td>2</td>\n",
       "      <td>Diego</td>\n",
       "      <td>B-NAME_STUDENT</td>\n",
       "    </tr>\n",
       "    <tr>\n",
       "      <th>7</th>\n",
       "      <td>7</td>\n",
       "      <td>10</td>\n",
       "      <td>1</td>\n",
       "      <td>8</td>\n",
       "      <td>Estrada</td>\n",
       "      <td>I-NAME_STUDENT</td>\n",
       "    </tr>\n",
       "    <tr>\n",
       "      <th>8</th>\n",
       "      <td>8</td>\n",
       "      <td>10</td>\n",
       "      <td>464</td>\n",
       "      <td>2</td>\n",
       "      <td>Diego</td>\n",
       "      <td>B-NAME_STUDENT</td>\n",
       "    </tr>\n",
       "    <tr>\n",
       "      <th>9</th>\n",
       "      <td>9</td>\n",
       "      <td>10</td>\n",
       "      <td>465</td>\n",
       "      <td>8</td>\n",
       "      <td>Estrada</td>\n",
       "      <td>I-NAME_STUDENT</td>\n",
       "    </tr>\n",
       "  </tbody>\n",
       "</table>\n",
       "</div>"
      ],
      "text/plain": [
       "   row_id  document  token  label_id token_string           label\n",
       "0       0         7      9         2     Nathalie  B-NAME_STUDENT\n",
       "1       1         7     10         8        Sylla  I-NAME_STUDENT\n",
       "2       2         7    482         2     Nathalie  B-NAME_STUDENT\n",
       "3       3         7    483         8        Sylla  I-NAME_STUDENT\n",
       "4       4         7    741         2     Nathalie  B-NAME_STUDENT\n",
       "5       5         7    742         8        Sylla  I-NAME_STUDENT\n",
       "6       6        10      0         2        Diego  B-NAME_STUDENT\n",
       "7       7        10      1         8      Estrada  I-NAME_STUDENT\n",
       "8       8        10    464         2        Diego  B-NAME_STUDENT\n",
       "9       9        10    465         8      Estrada  I-NAME_STUDENT"
      ]
     },
     "execution_count": 31,
     "metadata": {},
     "output_type": "execute_result"
    }
   ],
   "source": [
    "pred_df = pd.DataFrame(\n",
    "    {\n",
    "        \"document\": document_list,\n",
    "        \"token\": token_id_list,\n",
    "        \"label_id\": label_id_list,\n",
    "        \"token_string\": token_list,\n",
    "    }\n",
    ")\n",
    "pred_df = pred_df.rename_axis(\"row_id\").reset_index() # add `row_id` column\n",
    "pred_df[\"label\"] = pred_df.label_id.map(CFG.id2label) # map integer label to BIO format label\n",
    "pred_df.head(10)"
   ]
  },
  {
   "cell_type": "markdown",
   "id": "40986290",
   "metadata": {
    "papermill": {
     "duration": 0.188275,
     "end_time": "2024-04-14T06:27:26.043851",
     "exception": false,
     "start_time": "2024-04-14T06:27:25.855576",
     "status": "completed"
    },
    "tags": []
   },
   "source": [
    "In `submission.csv` we are excluding `token_string` and `label_id` from the columns as they are not part of submission file."
   ]
  },
  {
   "cell_type": "code",
   "execution_count": 32,
   "id": "8eba8139",
   "metadata": {
    "execution": {
     "iopub.execute_input": "2024-04-14T06:27:26.431706Z",
     "iopub.status.busy": "2024-04-14T06:27:26.430969Z",
     "iopub.status.idle": "2024-04-14T06:27:26.442973Z",
     "shell.execute_reply": "2024-04-14T06:27:26.442208Z"
    },
    "papermill": {
     "duration": 0.207112,
     "end_time": "2024-04-14T06:27:26.444959",
     "exception": false,
     "start_time": "2024-04-14T06:27:26.237847",
     "status": "completed"
    },
    "tags": []
   },
   "outputs": [],
   "source": [
    "sub_df = pred_df.drop(columns=[\"token_string\", \"label_id\"]) # remove extra columns\n",
    "sub_df.to_csv(\"submission.csv\", index=False)"
   ]
  }
 ],
 "metadata": {
  "kaggle": {
   "accelerator": "nvidiaTeslaT4",
   "dataSources": [
    {
     "databundleVersionId": 7500999,
     "sourceId": 66653,
     "sourceType": "competition"
    },
    {
     "datasetId": 4308295,
     "sourceId": 7526248,
     "sourceType": "datasetVersion"
    },
    {
     "datasetId": 4442914,
     "sourceId": 7626226,
     "sourceType": "datasetVersion"
    },
    {
     "modelInstanceId": 4685,
     "sourceId": 6064,
     "sourceType": "modelInstanceVersion"
    },
    {
     "modelInstanceId": 4686,
     "sourceId": 6065,
     "sourceType": "modelInstanceVersion"
    },
    {
     "modelInstanceId": 4689,
     "sourceId": 6068,
     "sourceType": "modelInstanceVersion"
    },
    {
     "modelInstanceId": 4690,
     "sourceId": 6069,
     "sourceType": "modelInstanceVersion"
    }
   ],
   "dockerImageVersionId": 30684,
   "isGpuEnabled": true,
   "isInternetEnabled": false,
   "language": "python",
   "sourceType": "notebook"
  },
  "kernelspec": {
   "display_name": "Python 3",
   "language": "python",
   "name": "python3"
  },
  "language_info": {
   "codemirror_mode": {
    "name": "ipython",
    "version": 3
   },
   "file_extension": ".py",
   "mimetype": "text/x-python",
   "name": "python",
   "nbconvert_exporter": "python",
   "pygments_lexer": "ipython3",
   "version": "3.10.13"
  },
  "papermill": {
   "default_parameters": {},
   "duration": 3480.508995,
   "end_time": "2024-04-14T06:27:30.552526",
   "environment_variables": {},
   "exception": null,
   "input_path": "__notebook__.ipynb",
   "output_path": "__notebook__.ipynb",
   "parameters": {},
   "start_time": "2024-04-14T05:29:30.043531",
   "version": "2.5.0"
  },
  "widgets": {
   "application/vnd.jupyter.widget-state+json": {
    "state": {
     "04dae4a4533147d192211dc7710c3304": {
      "model_module": "@jupyter-widgets/controls",
      "model_module_version": "1.5.0",
      "model_name": "DescriptionStyleModel",
      "state": {
       "_model_module": "@jupyter-widgets/controls",
       "_model_module_version": "1.5.0",
       "_model_name": "DescriptionStyleModel",
       "_view_count": null,
       "_view_module": "@jupyter-widgets/base",
       "_view_module_version": "1.2.0",
       "_view_name": "StyleView",
       "description_width": ""
      }
     },
     "0b314a5274c84ef78bd8b98cbff70fa0": {
      "model_module": "@jupyter-widgets/base",
      "model_module_version": "1.2.0",
      "model_name": "LayoutModel",
      "state": {
       "_model_module": "@jupyter-widgets/base",
       "_model_module_version": "1.2.0",
       "_model_name": "LayoutModel",
       "_view_count": null,
       "_view_module": "@jupyter-widgets/base",
       "_view_module_version": "1.2.0",
       "_view_name": "LayoutView",
       "align_content": null,
       "align_items": null,
       "align_self": null,
       "border": null,
       "bottom": null,
       "display": null,
       "flex": null,
       "flex_flow": null,
       "grid_area": null,
       "grid_auto_columns": null,
       "grid_auto_flow": null,
       "grid_auto_rows": null,
       "grid_column": null,
       "grid_gap": null,
       "grid_row": null,
       "grid_template_areas": null,
       "grid_template_columns": null,
       "grid_template_rows": null,
       "height": null,
       "justify_content": null,
       "justify_items": null,
       "left": null,
       "margin": null,
       "max_height": null,
       "max_width": null,
       "min_height": null,
       "min_width": null,
       "object_fit": null,
       "object_position": null,
       "order": null,
       "overflow": null,
       "overflow_x": null,
       "overflow_y": null,
       "padding": null,
       "right": null,
       "top": null,
       "visibility": null,
       "width": null
      }
     },
     "125848d59c7541948dfedc41b70df8a7": {
      "model_module": "@jupyter-widgets/base",
      "model_module_version": "1.2.0",
      "model_name": "LayoutModel",
      "state": {
       "_model_module": "@jupyter-widgets/base",
       "_model_module_version": "1.2.0",
       "_model_name": "LayoutModel",
       "_view_count": null,
       "_view_module": "@jupyter-widgets/base",
       "_view_module_version": "1.2.0",
       "_view_name": "LayoutView",
       "align_content": null,
       "align_items": null,
       "align_self": null,
       "border": null,
       "bottom": null,
       "display": null,
       "flex": null,
       "flex_flow": null,
       "grid_area": null,
       "grid_auto_columns": null,
       "grid_auto_flow": null,
       "grid_auto_rows": null,
       "grid_column": null,
       "grid_gap": null,
       "grid_row": null,
       "grid_template_areas": null,
       "grid_template_columns": null,
       "grid_template_rows": null,
       "height": null,
       "justify_content": null,
       "justify_items": null,
       "left": null,
       "margin": null,
       "max_height": null,
       "max_width": null,
       "min_height": null,
       "min_width": null,
       "object_fit": null,
       "object_position": null,
       "order": null,
       "overflow": null,
       "overflow_x": null,
       "overflow_y": null,
       "padding": null,
       "right": null,
       "top": null,
       "visibility": null,
       "width": null
      }
     },
     "269a2637cf6e422e8c81e0de920a49ef": {
      "model_module": "@jupyter-widgets/base",
      "model_module_version": "1.2.0",
      "model_name": "LayoutModel",
      "state": {
       "_model_module": "@jupyter-widgets/base",
       "_model_module_version": "1.2.0",
       "_model_name": "LayoutModel",
       "_view_count": null,
       "_view_module": "@jupyter-widgets/base",
       "_view_module_version": "1.2.0",
       "_view_name": "LayoutView",
       "align_content": null,
       "align_items": null,
       "align_self": null,
       "border": null,
       "bottom": null,
       "display": null,
       "flex": null,
       "flex_flow": null,
       "grid_area": null,
       "grid_auto_columns": null,
       "grid_auto_flow": null,
       "grid_auto_rows": null,
       "grid_column": null,
       "grid_gap": null,
       "grid_row": null,
       "grid_template_areas": null,
       "grid_template_columns": null,
       "grid_template_rows": null,
       "height": null,
       "justify_content": null,
       "justify_items": null,
       "left": null,
       "margin": null,
       "max_height": null,
       "max_width": null,
       "min_height": null,
       "min_width": null,
       "object_fit": null,
       "object_position": null,
       "order": null,
       "overflow": null,
       "overflow_x": null,
       "overflow_y": null,
       "padding": null,
       "right": null,
       "top": null,
       "visibility": null,
       "width": null
      }
     },
     "3874a4b429fc4927a6bef0a83ac71411": {
      "model_module": "@jupyter-widgets/controls",
      "model_module_version": "1.5.0",
      "model_name": "HBoxModel",
      "state": {
       "_dom_classes": [],
       "_model_module": "@jupyter-widgets/controls",
       "_model_module_version": "1.5.0",
       "_model_name": "HBoxModel",
       "_view_count": null,
       "_view_module": "@jupyter-widgets/controls",
       "_view_module_version": "1.5.0",
       "_view_name": "HBoxView",
       "box_style": "",
       "children": [
        "IPY_MODEL_57e6d7d44ccd4c2797d7164c1cc83bf8",
        "IPY_MODEL_5e73c42c2af9418f886f9916b68a7cb8",
        "IPY_MODEL_724be259e5264d9ba0c55bcadf0bb9e4"
       ],
       "layout": "IPY_MODEL_125848d59c7541948dfedc41b70df8a7"
      }
     },
     "4b79356a4167425d86c4dd2e8c65ad64": {
      "model_module": "@jupyter-widgets/base",
      "model_module_version": "1.2.0",
      "model_name": "LayoutModel",
      "state": {
       "_model_module": "@jupyter-widgets/base",
       "_model_module_version": "1.2.0",
       "_model_name": "LayoutModel",
       "_view_count": null,
       "_view_module": "@jupyter-widgets/base",
       "_view_module_version": "1.2.0",
       "_view_name": "LayoutView",
       "align_content": null,
       "align_items": null,
       "align_self": null,
       "border": null,
       "bottom": null,
       "display": null,
       "flex": null,
       "flex_flow": null,
       "grid_area": null,
       "grid_auto_columns": null,
       "grid_auto_flow": null,
       "grid_auto_rows": null,
       "grid_column": null,
       "grid_gap": null,
       "grid_row": null,
       "grid_template_areas": null,
       "grid_template_columns": null,
       "grid_template_rows": null,
       "height": null,
       "justify_content": null,
       "justify_items": null,
       "left": null,
       "margin": null,
       "max_height": null,
       "max_width": null,
       "min_height": null,
       "min_width": null,
       "object_fit": null,
       "object_position": null,
       "order": null,
       "overflow": null,
       "overflow_x": null,
       "overflow_y": null,
       "padding": null,
       "right": null,
       "top": null,
       "visibility": null,
       "width": null
      }
     },
     "4b84d6d4ef454c408025d28e7f8f476b": {
      "model_module": "@jupyter-widgets/base",
      "model_module_version": "1.2.0",
      "model_name": "LayoutModel",
      "state": {
       "_model_module": "@jupyter-widgets/base",
       "_model_module_version": "1.2.0",
       "_model_name": "LayoutModel",
       "_view_count": null,
       "_view_module": "@jupyter-widgets/base",
       "_view_module_version": "1.2.0",
       "_view_name": "LayoutView",
       "align_content": null,
       "align_items": null,
       "align_self": null,
       "border": null,
       "bottom": null,
       "display": null,
       "flex": null,
       "flex_flow": null,
       "grid_area": null,
       "grid_auto_columns": null,
       "grid_auto_flow": null,
       "grid_auto_rows": null,
       "grid_column": null,
       "grid_gap": null,
       "grid_row": null,
       "grid_template_areas": null,
       "grid_template_columns": null,
       "grid_template_rows": null,
       "height": null,
       "justify_content": null,
       "justify_items": null,
       "left": null,
       "margin": null,
       "max_height": null,
       "max_width": null,
       "min_height": null,
       "min_width": null,
       "object_fit": null,
       "object_position": null,
       "order": null,
       "overflow": null,
       "overflow_x": null,
       "overflow_y": null,
       "padding": null,
       "right": null,
       "top": null,
       "visibility": null,
       "width": null
      }
     },
     "4ba95d6ae8ab4b9a90015871a96fbdf8": {
      "model_module": "@jupyter-widgets/controls",
      "model_module_version": "1.5.0",
      "model_name": "ProgressStyleModel",
      "state": {
       "_model_module": "@jupyter-widgets/controls",
       "_model_module_version": "1.5.0",
       "_model_name": "ProgressStyleModel",
       "_view_count": null,
       "_view_module": "@jupyter-widgets/base",
       "_view_module_version": "1.2.0",
       "_view_name": "StyleView",
       "bar_color": null,
       "description_width": ""
      }
     },
     "560f4edbafb8475196375c30523e57ae": {
      "model_module": "@jupyter-widgets/controls",
      "model_module_version": "1.5.0",
      "model_name": "HBoxModel",
      "state": {
       "_dom_classes": [],
       "_model_module": "@jupyter-widgets/controls",
       "_model_module_version": "1.5.0",
       "_model_name": "HBoxModel",
       "_view_count": null,
       "_view_module": "@jupyter-widgets/controls",
       "_view_module_version": "1.5.0",
       "_view_name": "HBoxView",
       "box_style": "",
       "children": [
        "IPY_MODEL_d3a782637f1143d7a5202b1ca24c5a06",
        "IPY_MODEL_c616f1a6198c41a0b2594557229be478",
        "IPY_MODEL_deb926012d0a47a4b61daf95b66403f3"
       ],
       "layout": "IPY_MODEL_4b79356a4167425d86c4dd2e8c65ad64"
      }
     },
     "57e6d7d44ccd4c2797d7164c1cc83bf8": {
      "model_module": "@jupyter-widgets/controls",
      "model_module_version": "1.5.0",
      "model_name": "HTMLModel",
      "state": {
       "_dom_classes": [],
       "_model_module": "@jupyter-widgets/controls",
       "_model_module_version": "1.5.0",
       "_model_name": "HTMLModel",
       "_view_count": null,
       "_view_module": "@jupyter-widgets/controls",
       "_view_module_version": "1.5.0",
       "_view_name": "HTMLView",
       "description": "",
       "description_tooltip": null,
       "layout": "IPY_MODEL_d0a8bd6b7191449cb7ae1d8d875bbe3e",
       "placeholder": "​",
       "style": "IPY_MODEL_9fc9203ee52548fab0c8845a20130c3f",
       "value": "100%"
      }
     },
     "5d6c5bfecd084facb695df949adcabaf": {
      "model_module": "@jupyter-widgets/base",
      "model_module_version": "1.2.0",
      "model_name": "LayoutModel",
      "state": {
       "_model_module": "@jupyter-widgets/base",
       "_model_module_version": "1.2.0",
       "_model_name": "LayoutModel",
       "_view_count": null,
       "_view_module": "@jupyter-widgets/base",
       "_view_module_version": "1.2.0",
       "_view_name": "LayoutView",
       "align_content": null,
       "align_items": null,
       "align_self": null,
       "border": null,
       "bottom": null,
       "display": null,
       "flex": null,
       "flex_flow": null,
       "grid_area": null,
       "grid_auto_columns": null,
       "grid_auto_flow": null,
       "grid_auto_rows": null,
       "grid_column": null,
       "grid_gap": null,
       "grid_row": null,
       "grid_template_areas": null,
       "grid_template_columns": null,
       "grid_template_rows": null,
       "height": null,
       "justify_content": null,
       "justify_items": null,
       "left": null,
       "margin": null,
       "max_height": null,
       "max_width": null,
       "min_height": null,
       "min_width": null,
       "object_fit": null,
       "object_position": null,
       "order": null,
       "overflow": null,
       "overflow_x": null,
       "overflow_y": null,
       "padding": null,
       "right": null,
       "top": null,
       "visibility": null,
       "width": null
      }
     },
     "5e73c42c2af9418f886f9916b68a7cb8": {
      "model_module": "@jupyter-widgets/controls",
      "model_module_version": "1.5.0",
      "model_name": "FloatProgressModel",
      "state": {
       "_dom_classes": [],
       "_model_module": "@jupyter-widgets/controls",
       "_model_module_version": "1.5.0",
       "_model_name": "FloatProgressModel",
       "_view_count": null,
       "_view_module": "@jupyter-widgets/controls",
       "_view_module_version": "1.5.0",
       "_view_name": "ProgressView",
       "bar_style": "success",
       "description": "",
       "description_tooltip": null,
       "layout": "IPY_MODEL_9aa3fbea571b4664a2a6bec4deb83b14",
       "max": 6807.0,
       "min": 0.0,
       "orientation": "horizontal",
       "style": "IPY_MODEL_4ba95d6ae8ab4b9a90015871a96fbdf8",
       "value": 6807.0
      }
     },
     "6a73db1d1f124a52bdf9f43d962c4795": {
      "model_module": "@jupyter-widgets/controls",
      "model_module_version": "1.5.0",
      "model_name": "DescriptionStyleModel",
      "state": {
       "_model_module": "@jupyter-widgets/controls",
       "_model_module_version": "1.5.0",
       "_model_name": "DescriptionStyleModel",
       "_view_count": null,
       "_view_module": "@jupyter-widgets/base",
       "_view_module_version": "1.2.0",
       "_view_name": "StyleView",
       "description_width": ""
      }
     },
     "70999c0056024cb7bf6d439fd20d31bd": {
      "model_module": "@jupyter-widgets/base",
      "model_module_version": "1.2.0",
      "model_name": "LayoutModel",
      "state": {
       "_model_module": "@jupyter-widgets/base",
       "_model_module_version": "1.2.0",
       "_model_name": "LayoutModel",
       "_view_count": null,
       "_view_module": "@jupyter-widgets/base",
       "_view_module_version": "1.2.0",
       "_view_name": "LayoutView",
       "align_content": null,
       "align_items": null,
       "align_self": null,
       "border": null,
       "bottom": null,
       "display": null,
       "flex": null,
       "flex_flow": null,
       "grid_area": null,
       "grid_auto_columns": null,
       "grid_auto_flow": null,
       "grid_auto_rows": null,
       "grid_column": null,
       "grid_gap": null,
       "grid_row": null,
       "grid_template_areas": null,
       "grid_template_columns": null,
       "grid_template_rows": null,
       "height": null,
       "justify_content": null,
       "justify_items": null,
       "left": null,
       "margin": null,
       "max_height": null,
       "max_width": null,
       "min_height": null,
       "min_width": null,
       "object_fit": null,
       "object_position": null,
       "order": null,
       "overflow": null,
       "overflow_x": null,
       "overflow_y": null,
       "padding": null,
       "right": null,
       "top": null,
       "visibility": null,
       "width": null
      }
     },
     "724be259e5264d9ba0c55bcadf0bb9e4": {
      "model_module": "@jupyter-widgets/controls",
      "model_module_version": "1.5.0",
      "model_name": "HTMLModel",
      "state": {
       "_dom_classes": [],
       "_model_module": "@jupyter-widgets/controls",
       "_model_module_version": "1.5.0",
       "_model_name": "HTMLModel",
       "_view_count": null,
       "_view_module": "@jupyter-widgets/controls",
       "_view_module_version": "1.5.0",
       "_view_name": "HTMLView",
       "description": "",
       "description_tooltip": null,
       "layout": "IPY_MODEL_70999c0056024cb7bf6d439fd20d31bd",
       "placeholder": "​",
       "style": "IPY_MODEL_6a73db1d1f124a52bdf9f43d962c4795",
       "value": " 6807/6807 [00:02&lt;00:00, 2637.80it/s]"
      }
     },
     "7f3fb8ccbf2f4665a25117ce51a00c3a": {
      "model_module": "@jupyter-widgets/controls",
      "model_module_version": "1.5.0",
      "model_name": "HBoxModel",
      "state": {
       "_dom_classes": [],
       "_model_module": "@jupyter-widgets/controls",
       "_model_module_version": "1.5.0",
       "_model_name": "HBoxModel",
       "_view_count": null,
       "_view_module": "@jupyter-widgets/controls",
       "_view_module_version": "1.5.0",
       "_view_name": "HBoxView",
       "box_style": "",
       "children": [
        "IPY_MODEL_f339a137502044598b6ae1e02453f58a",
        "IPY_MODEL_f054a5cfdbed4c7aa4b4d97bb4342e41",
        "IPY_MODEL_a47c783a2ac34c6da29d55e0a6ffafd3"
       ],
       "layout": "IPY_MODEL_cce8a1c2ceb744b8912643b0451bab2b"
      }
     },
     "9aa3fbea571b4664a2a6bec4deb83b14": {
      "model_module": "@jupyter-widgets/base",
      "model_module_version": "1.2.0",
      "model_name": "LayoutModel",
      "state": {
       "_model_module": "@jupyter-widgets/base",
       "_model_module_version": "1.2.0",
       "_model_name": "LayoutModel",
       "_view_count": null,
       "_view_module": "@jupyter-widgets/base",
       "_view_module_version": "1.2.0",
       "_view_name": "LayoutView",
       "align_content": null,
       "align_items": null,
       "align_self": null,
       "border": null,
       "bottom": null,
       "display": null,
       "flex": null,
       "flex_flow": null,
       "grid_area": null,
       "grid_auto_columns": null,
       "grid_auto_flow": null,
       "grid_auto_rows": null,
       "grid_column": null,
       "grid_gap": null,
       "grid_row": null,
       "grid_template_areas": null,
       "grid_template_columns": null,
       "grid_template_rows": null,
       "height": null,
       "justify_content": null,
       "justify_items": null,
       "left": null,
       "margin": null,
       "max_height": null,
       "max_width": null,
       "min_height": null,
       "min_width": null,
       "object_fit": null,
       "object_position": null,
       "order": null,
       "overflow": null,
       "overflow_x": null,
       "overflow_y": null,
       "padding": null,
       "right": null,
       "top": null,
       "visibility": null,
       "width": null
      }
     },
     "9ceeea3d66c647d382a04e74a6a1b4c4": {
      "model_module": "@jupyter-widgets/controls",
      "model_module_version": "1.5.0",
      "model_name": "DescriptionStyleModel",
      "state": {
       "_model_module": "@jupyter-widgets/controls",
       "_model_module_version": "1.5.0",
       "_model_name": "DescriptionStyleModel",
       "_view_count": null,
       "_view_module": "@jupyter-widgets/base",
       "_view_module_version": "1.2.0",
       "_view_name": "StyleView",
       "description_width": ""
      }
     },
     "9fc9203ee52548fab0c8845a20130c3f": {
      "model_module": "@jupyter-widgets/controls",
      "model_module_version": "1.5.0",
      "model_name": "DescriptionStyleModel",
      "state": {
       "_model_module": "@jupyter-widgets/controls",
       "_model_module_version": "1.5.0",
       "_model_name": "DescriptionStyleModel",
       "_view_count": null,
       "_view_module": "@jupyter-widgets/base",
       "_view_module_version": "1.2.0",
       "_view_name": "StyleView",
       "description_width": ""
      }
     },
     "a47c783a2ac34c6da29d55e0a6ffafd3": {
      "model_module": "@jupyter-widgets/controls",
      "model_module_version": "1.5.0",
      "model_name": "HTMLModel",
      "state": {
       "_dom_classes": [],
       "_model_module": "@jupyter-widgets/controls",
       "_model_module_version": "1.5.0",
       "_model_name": "HTMLModel",
       "_view_count": null,
       "_view_module": "@jupyter-widgets/controls",
       "_view_module_version": "1.5.0",
       "_view_name": "HTMLView",
       "description": "",
       "description_tooltip": null,
       "layout": "IPY_MODEL_ba11fc9d7d2540e19b93c95aa621df6a",
       "placeholder": "​",
       "style": "IPY_MODEL_d9ba7740b7934160a16945ee2889ac95",
       "value": " 12/12 [00:00&lt;00:00, 695.00it/s]"
      }
     },
     "b09a0db103274ec987899ff6cf2befab": {
      "model_module": "@jupyter-widgets/controls",
      "model_module_version": "1.5.0",
      "model_name": "DescriptionStyleModel",
      "state": {
       "_model_module": "@jupyter-widgets/controls",
       "_model_module_version": "1.5.0",
       "_model_name": "DescriptionStyleModel",
       "_view_count": null,
       "_view_module": "@jupyter-widgets/base",
       "_view_module_version": "1.2.0",
       "_view_name": "StyleView",
       "description_width": ""
      }
     },
     "ba11fc9d7d2540e19b93c95aa621df6a": {
      "model_module": "@jupyter-widgets/base",
      "model_module_version": "1.2.0",
      "model_name": "LayoutModel",
      "state": {
       "_model_module": "@jupyter-widgets/base",
       "_model_module_version": "1.2.0",
       "_model_name": "LayoutModel",
       "_view_count": null,
       "_view_module": "@jupyter-widgets/base",
       "_view_module_version": "1.2.0",
       "_view_name": "LayoutView",
       "align_content": null,
       "align_items": null,
       "align_self": null,
       "border": null,
       "bottom": null,
       "display": null,
       "flex": null,
       "flex_flow": null,
       "grid_area": null,
       "grid_auto_columns": null,
       "grid_auto_flow": null,
       "grid_auto_rows": null,
       "grid_column": null,
       "grid_gap": null,
       "grid_row": null,
       "grid_template_areas": null,
       "grid_template_columns": null,
       "grid_template_rows": null,
       "height": null,
       "justify_content": null,
       "justify_items": null,
       "left": null,
       "margin": null,
       "max_height": null,
       "max_width": null,
       "min_height": null,
       "min_width": null,
       "object_fit": null,
       "object_position": null,
       "order": null,
       "overflow": null,
       "overflow_x": null,
       "overflow_y": null,
       "padding": null,
       "right": null,
       "top": null,
       "visibility": null,
       "width": null
      }
     },
     "bb5da39cde8c4dae97d2453a0f49a4b3": {
      "model_module": "@jupyter-widgets/controls",
      "model_module_version": "1.5.0",
      "model_name": "ProgressStyleModel",
      "state": {
       "_model_module": "@jupyter-widgets/controls",
       "_model_module_version": "1.5.0",
       "_model_name": "ProgressStyleModel",
       "_view_count": null,
       "_view_module": "@jupyter-widgets/base",
       "_view_module_version": "1.2.0",
       "_view_name": "StyleView",
       "bar_color": null,
       "description_width": ""
      }
     },
     "c616f1a6198c41a0b2594557229be478": {
      "model_module": "@jupyter-widgets/controls",
      "model_module_version": "1.5.0",
      "model_name": "FloatProgressModel",
      "state": {
       "_dom_classes": [],
       "_model_module": "@jupyter-widgets/controls",
       "_model_module_version": "1.5.0",
       "_model_name": "FloatProgressModel",
       "_view_count": null,
       "_view_module": "@jupyter-widgets/controls",
       "_view_module_version": "1.5.0",
       "_view_name": "ProgressView",
       "bar_style": "success",
       "description": "",
       "description_tooltip": null,
       "layout": "IPY_MODEL_4b84d6d4ef454c408025d28e7f8f476b",
       "max": 10.0,
       "min": 0.0,
       "orientation": "horizontal",
       "style": "IPY_MODEL_eb3e2492b3354c8582aa99eaee04a2e3",
       "value": 10.0
      }
     },
     "cce8a1c2ceb744b8912643b0451bab2b": {
      "model_module": "@jupyter-widgets/base",
      "model_module_version": "1.2.0",
      "model_name": "LayoutModel",
      "state": {
       "_model_module": "@jupyter-widgets/base",
       "_model_module_version": "1.2.0",
       "_model_name": "LayoutModel",
       "_view_count": null,
       "_view_module": "@jupyter-widgets/base",
       "_view_module_version": "1.2.0",
       "_view_name": "LayoutView",
       "align_content": null,
       "align_items": null,
       "align_self": null,
       "border": null,
       "bottom": null,
       "display": null,
       "flex": null,
       "flex_flow": null,
       "grid_area": null,
       "grid_auto_columns": null,
       "grid_auto_flow": null,
       "grid_auto_rows": null,
       "grid_column": null,
       "grid_gap": null,
       "grid_row": null,
       "grid_template_areas": null,
       "grid_template_columns": null,
       "grid_template_rows": null,
       "height": null,
       "justify_content": null,
       "justify_items": null,
       "left": null,
       "margin": null,
       "max_height": null,
       "max_width": null,
       "min_height": null,
       "min_width": null,
       "object_fit": null,
       "object_position": null,
       "order": null,
       "overflow": null,
       "overflow_x": null,
       "overflow_y": null,
       "padding": null,
       "right": null,
       "top": null,
       "visibility": null,
       "width": null
      }
     },
     "d0a8bd6b7191449cb7ae1d8d875bbe3e": {
      "model_module": "@jupyter-widgets/base",
      "model_module_version": "1.2.0",
      "model_name": "LayoutModel",
      "state": {
       "_model_module": "@jupyter-widgets/base",
       "_model_module_version": "1.2.0",
       "_model_name": "LayoutModel",
       "_view_count": null,
       "_view_module": "@jupyter-widgets/base",
       "_view_module_version": "1.2.0",
       "_view_name": "LayoutView",
       "align_content": null,
       "align_items": null,
       "align_self": null,
       "border": null,
       "bottom": null,
       "display": null,
       "flex": null,
       "flex_flow": null,
       "grid_area": null,
       "grid_auto_columns": null,
       "grid_auto_flow": null,
       "grid_auto_rows": null,
       "grid_column": null,
       "grid_gap": null,
       "grid_row": null,
       "grid_template_areas": null,
       "grid_template_columns": null,
       "grid_template_rows": null,
       "height": null,
       "justify_content": null,
       "justify_items": null,
       "left": null,
       "margin": null,
       "max_height": null,
       "max_width": null,
       "min_height": null,
       "min_width": null,
       "object_fit": null,
       "object_position": null,
       "order": null,
       "overflow": null,
       "overflow_x": null,
       "overflow_y": null,
       "padding": null,
       "right": null,
       "top": null,
       "visibility": null,
       "width": null
      }
     },
     "d3a782637f1143d7a5202b1ca24c5a06": {
      "model_module": "@jupyter-widgets/controls",
      "model_module_version": "1.5.0",
      "model_name": "HTMLModel",
      "state": {
       "_dom_classes": [],
       "_model_module": "@jupyter-widgets/controls",
       "_model_module_version": "1.5.0",
       "_model_name": "HTMLModel",
       "_view_count": null,
       "_view_module": "@jupyter-widgets/controls",
       "_view_module_version": "1.5.0",
       "_view_name": "HTMLView",
       "description": "",
       "description_tooltip": null,
       "layout": "IPY_MODEL_0b314a5274c84ef78bd8b98cbff70fa0",
       "placeholder": "​",
       "style": "IPY_MODEL_9ceeea3d66c647d382a04e74a6a1b4c4",
       "value": "100%"
      }
     },
     "d9ba7740b7934160a16945ee2889ac95": {
      "model_module": "@jupyter-widgets/controls",
      "model_module_version": "1.5.0",
      "model_name": "DescriptionStyleModel",
      "state": {
       "_model_module": "@jupyter-widgets/controls",
       "_model_module_version": "1.5.0",
       "_model_name": "DescriptionStyleModel",
       "_view_count": null,
       "_view_module": "@jupyter-widgets/base",
       "_view_module_version": "1.2.0",
       "_view_name": "StyleView",
       "description_width": ""
      }
     },
     "deb926012d0a47a4b61daf95b66403f3": {
      "model_module": "@jupyter-widgets/controls",
      "model_module_version": "1.5.0",
      "model_name": "HTMLModel",
      "state": {
       "_dom_classes": [],
       "_model_module": "@jupyter-widgets/controls",
       "_model_module_version": "1.5.0",
       "_model_name": "HTMLModel",
       "_view_count": null,
       "_view_module": "@jupyter-widgets/controls",
       "_view_module_version": "1.5.0",
       "_view_name": "HTMLView",
       "description": "",
       "description_tooltip": null,
       "layout": "IPY_MODEL_269a2637cf6e422e8c81e0de920a49ef",
       "placeholder": "​",
       "style": "IPY_MODEL_04dae4a4533147d192211dc7710c3304",
       "value": " 10/10 [00:00&lt;00:00, 718.26it/s]"
      }
     },
     "e6b51d5c00224fc1989701232d24dc1e": {
      "model_module": "@jupyter-widgets/base",
      "model_module_version": "1.2.0",
      "model_name": "LayoutModel",
      "state": {
       "_model_module": "@jupyter-widgets/base",
       "_model_module_version": "1.2.0",
       "_model_name": "LayoutModel",
       "_view_count": null,
       "_view_module": "@jupyter-widgets/base",
       "_view_module_version": "1.2.0",
       "_view_name": "LayoutView",
       "align_content": null,
       "align_items": null,
       "align_self": null,
       "border": null,
       "bottom": null,
       "display": null,
       "flex": null,
       "flex_flow": null,
       "grid_area": null,
       "grid_auto_columns": null,
       "grid_auto_flow": null,
       "grid_auto_rows": null,
       "grid_column": null,
       "grid_gap": null,
       "grid_row": null,
       "grid_template_areas": null,
       "grid_template_columns": null,
       "grid_template_rows": null,
       "height": null,
       "justify_content": null,
       "justify_items": null,
       "left": null,
       "margin": null,
       "max_height": null,
       "max_width": null,
       "min_height": null,
       "min_width": null,
       "object_fit": null,
       "object_position": null,
       "order": null,
       "overflow": null,
       "overflow_x": null,
       "overflow_y": null,
       "padding": null,
       "right": null,
       "top": null,
       "visibility": null,
       "width": null
      }
     },
     "eb3e2492b3354c8582aa99eaee04a2e3": {
      "model_module": "@jupyter-widgets/controls",
      "model_module_version": "1.5.0",
      "model_name": "ProgressStyleModel",
      "state": {
       "_model_module": "@jupyter-widgets/controls",
       "_model_module_version": "1.5.0",
       "_model_name": "ProgressStyleModel",
       "_view_count": null,
       "_view_module": "@jupyter-widgets/base",
       "_view_module_version": "1.2.0",
       "_view_name": "StyleView",
       "bar_color": null,
       "description_width": ""
      }
     },
     "f054a5cfdbed4c7aa4b4d97bb4342e41": {
      "model_module": "@jupyter-widgets/controls",
      "model_module_version": "1.5.0",
      "model_name": "FloatProgressModel",
      "state": {
       "_dom_classes": [],
       "_model_module": "@jupyter-widgets/controls",
       "_model_module_version": "1.5.0",
       "_model_name": "FloatProgressModel",
       "_view_count": null,
       "_view_module": "@jupyter-widgets/controls",
       "_view_module_version": "1.5.0",
       "_view_name": "ProgressView",
       "bar_style": "success",
       "description": "",
       "description_tooltip": null,
       "layout": "IPY_MODEL_5d6c5bfecd084facb695df949adcabaf",
       "max": 12.0,
       "min": 0.0,
       "orientation": "horizontal",
       "style": "IPY_MODEL_bb5da39cde8c4dae97d2453a0f49a4b3",
       "value": 12.0
      }
     },
     "f339a137502044598b6ae1e02453f58a": {
      "model_module": "@jupyter-widgets/controls",
      "model_module_version": "1.5.0",
      "model_name": "HTMLModel",
      "state": {
       "_dom_classes": [],
       "_model_module": "@jupyter-widgets/controls",
       "_model_module_version": "1.5.0",
       "_model_name": "HTMLModel",
       "_view_count": null,
       "_view_module": "@jupyter-widgets/controls",
       "_view_module_version": "1.5.0",
       "_view_name": "HTMLView",
       "description": "",
       "description_tooltip": null,
       "layout": "IPY_MODEL_e6b51d5c00224fc1989701232d24dc1e",
       "placeholder": "​",
       "style": "IPY_MODEL_b09a0db103274ec987899ff6cf2befab",
       "value": "100%"
      }
     }
    },
    "version_major": 2,
    "version_minor": 0
   }
  }
 },
 "nbformat": 4,
 "nbformat_minor": 5
}
